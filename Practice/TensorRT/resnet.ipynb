{
 "cells": [
  {
   "cell_type": "code",
   "execution_count": 40,
   "metadata": {},
   "outputs": [
    {
     "name": "stderr",
     "output_type": "stream",
     "text": [
      "--2021-08-18 11:18:34--  https://gist.githubusercontent.com/yrevar/942d3a0ac09ec9e5eb3a/raw/238f720ff059c1f82f368259d1ca4ffa5dd8f9f5/imagenet1000_clsidx_to_labels.txt\n",
      "Resolving gist.githubusercontent.com (gist.githubusercontent.com)... 185.199.111.133, 185.199.108.133, 185.199.109.133, ...\n",
      "Connecting to gist.githubusercontent.com (gist.githubusercontent.com)|185.199.111.133|:443... connected.\n",
      "HTTP request sent, awaiting response... 200 OK\n",
      "Length: 30564 (30K) [text/plain]\n",
      "Saving to: ‘ImageNet_label’\n",
      "\n",
      "     0K .......... .......... .........                       100% 3.42M=0.009s\n",
      "\n",
      "2021-08-18 11:18:34 (3.42 MB/s) - ‘ImageNet_label’ saved [30564/30564]\n",
      "\n"
     ]
    }
   ],
   "source": [
    "\"\"\"\n",
    "install ImageNet label and store into list\n",
    "\"\"\"\n",
    "import os\n",
    "os.system(\"wget -O ImageNet_label https://gist.githubusercontent.com/yrevar/942d3a0ac09ec9e5eb3a/raw/238f720ff059c1f82f368259d1ca4ffa5dd8f9f5/imagenet1000_clsidx_to_labels.txt\")\n",
    "\n",
    "label = []\n",
    "with open(\"ImageNet_label\") as f:\n",
    "    label = [i.split(\"'\")[1] for i in f.readlines()]\n",
    "\n",
    "# print(label)"
   ]
  },
  {
   "cell_type": "code",
   "execution_count": 41,
   "metadata": {},
   "outputs": [],
   "source": [
    "\"\"\"\n",
    "class timer for recording exe time\n",
    "\"\"\"\n",
    "import time\n",
    "class timer():\n",
    "    def __init__(self):\n",
    "        self.startTime=0\n",
    "        self.endTime=0\n",
    "        self.totaltime=0\n",
    "    def start(self):\n",
    "        self.startTime=time.time()\n",
    "    def end(self):\n",
    "        self.totaltime =time.time()-self.startTime"
   ]
  },
  {
   "cell_type": "code",
   "execution_count": 42,
   "metadata": {},
   "outputs": [],
   "source": [
    "\"\"\"\n",
    "img transform \n",
    "\"\"\"\n",
    "from torchvision import transforms\n",
    "transform = transforms.Compose([\n",
    "    transforms.Resize(224),\n",
    "    transforms.ToTensor(),\n",
    "    transforms.Normalize(\n",
    "        mean=[0.485, 0.456, 0.406], \n",
    "\t\tstd=[0.229, 0.224, 0.225])\n",
    "])"
   ]
  },
  {
   "cell_type": "code",
   "execution_count": 43,
   "metadata": {},
   "outputs": [],
   "source": [
    "\"\"\"\n",
    "save pytorch resnet model\n",
    "\"\"\"\n",
    "import torch\n",
    "import torchvision\n",
    "\n",
    "resnet50 = torchvision.models.resnet50(pretrained=True, progress=False).eval()\n",
    "#print(resnet50)\n",
    "torch.save(resnet50,\"resnet.pt\")"
   ]
  },
  {
   "cell_type": "code",
   "execution_count": 44,
   "metadata": {},
   "outputs": [
    {
     "name": "stdout",
     "output_type": "stream",
     "text": [
      "load pytorch model: 0.039026 s\n"
     ]
    }
   ],
   "source": [
    "\"\"\"\n",
    "load pytorch model\n",
    "\"\"\"\n",
    "\n",
    "load_torch_timer = timer()\n",
    "load_torch_timer.start()\n",
    "resnet_pytorch = torch.load(\"resnet.pt\")\n",
    "load_torch_timer.end()\n",
    "print(\"load pytorch model: %f s\" % (load_torch_timer.totaltime))"
   ]
  },
  {
   "cell_type": "code",
   "execution_count": 45,
   "metadata": {},
   "outputs": [
    {
     "name": "stdout",
     "output_type": "stream",
     "text": [
      "torch.Size([1, 3, 224, 224])\n"
     ]
    }
   ],
   "source": [
    "from matplotlib import pyplot as plt\n",
    "from PIL import Image\n",
    "import numpy as np\n",
    "img = Image.open('cat.png')\n",
    "img = transform(img)\n",
    "img = torch.unsqueeze(img, 0)\n",
    "print(img.size())"
   ]
  },
  {
   "cell_type": "code",
   "execution_count": 46,
   "metadata": {},
   "outputs": [
    {
     "name": "stdout",
     "output_type": "stream",
     "text": [
      "torch.Size([1, 1000])\n",
      "torch.Size([1000])\n",
      "pytorch time: 0.044211s\n"
     ]
    }
   ],
   "source": [
    "\"\"\" \n",
    "pytorch inference \n",
    "\"\"\"\n",
    "\n",
    "infer_torch_timer = timer()\n",
    "infer_torch_timer.start()\n",
    "output = resnet_pytorch(img)\n",
    "infer_torch_timer.end()\n",
    "\n",
    "print(output.size())\n",
    "output = output.squeeze()\n",
    "print(output.size())\n",
    "print(\"pytorch time: %fs\"%(infer_torch_timer.totaltime))\n",
    "\n",
    "sum = 0\n",
    "for i in output:\n",
    "    sum += i\n",
    "# print(output)"
   ]
  },
  {
   "cell_type": "code",
   "execution_count": 47,
   "metadata": {},
   "outputs": [
    {
     "name": "stdout",
     "output_type": "stream",
     "text": [
      "tabby, tabby cat          | 43.14913%\n",
      "tiger cat                 | 29.68253%\n",
      "Egyptian cat              | 25.96065%\n",
      "tiger, Panthera tigris    | 00.34236%\n",
      "lynx, catamount           | 00.30307%\n"
     ]
    }
   ],
   "source": [
    "\"\"\"\n",
    "pytorch result\n",
    "\"\"\"\n",
    "\n",
    "import torch.nn.functional as F\n",
    "_, index = torch.sort(output, descending=True)\n",
    "percentage = F.softmax(output)\n",
    "\n",
    "result_torch = [(label[i],percentage[i].item()*100) for i in index[:5]]\n",
    "for j in result_torch:\n",
    "    print(\"%-25s | %08.5f\"%(j[0],j[1])+\"%\")"
   ]
  },
  {
   "cell_type": "code",
   "execution_count": 48,
   "metadata": {},
   "outputs": [
    {
     "data": {
      "text/plain": "ResNet(\n  (conv1): Conv2d(3, 64, kernel_size=(7, 7), stride=(2, 2), padding=(3, 3), bias=False)\n  (bn1): BatchNorm2d(64, eps=1e-05, momentum=0.1, affine=True, track_running_stats=True)\n  (relu): ReLU(inplace=True)\n  (maxpool): MaxPool2d(kernel_size=3, stride=2, padding=1, dilation=1, ceil_mode=False)\n  (layer1): Sequential(\n    (0): Bottleneck(\n      (conv1): Conv2d(64, 64, kernel_size=(1, 1), stride=(1, 1), bias=False)\n      (bn1): BatchNorm2d(64, eps=1e-05, momentum=0.1, affine=True, track_running_stats=True)\n      (conv2): Conv2d(64, 64, kernel_size=(3, 3), stride=(1, 1), padding=(1, 1), bias=False)\n      (bn2): BatchNorm2d(64, eps=1e-05, momentum=0.1, affine=True, track_running_stats=True)\n      (conv3): Conv2d(64, 256, kernel_size=(1, 1), stride=(1, 1), bias=False)\n      (bn3): BatchNorm2d(256, eps=1e-05, momentum=0.1, affine=True, track_running_stats=True)\n      (relu): ReLU(inplace=True)\n      (downsample): Sequential(\n        (0): Conv2d(64, 256, kernel_size=(1, 1), stride=(1, 1), bias=False)\n        (1): BatchNorm2d(256, eps=1e-05, momentum=0.1, affine=True, track_running_stats=True)\n      )\n    )\n    (1): Bottleneck(\n      (conv1): Conv2d(256, 64, kernel_size=(1, 1), stride=(1, 1), bias=False)\n      (bn1): BatchNorm2d(64, eps=1e-05, momentum=0.1, affine=True, track_running_stats=True)\n      (conv2): Conv2d(64, 64, kernel_size=(3, 3), stride=(1, 1), padding=(1, 1), bias=False)\n      (bn2): BatchNorm2d(64, eps=1e-05, momentum=0.1, affine=True, track_running_stats=True)\n      (conv3): Conv2d(64, 256, kernel_size=(1, 1), stride=(1, 1), bias=False)\n      (bn3): BatchNorm2d(256, eps=1e-05, momentum=0.1, affine=True, track_running_stats=True)\n      (relu): ReLU(inplace=True)\n    )\n    (2): Bottleneck(\n      (conv1): Conv2d(256, 64, kernel_size=(1, 1), stride=(1, 1), bias=False)\n      (bn1): BatchNorm2d(64, eps=1e-05, momentum=0.1, affine=True, track_running_stats=True)\n      (conv2): Conv2d(64, 64, kernel_size=(3, 3), stride=(1, 1), padding=(1, 1), bias=False)\n      (bn2): BatchNorm2d(64, eps=1e-05, momentum=0.1, affine=True, track_running_stats=True)\n      (conv3): Conv2d(64, 256, kernel_size=(1, 1), stride=(1, 1), bias=False)\n      (bn3): BatchNorm2d(256, eps=1e-05, momentum=0.1, affine=True, track_running_stats=True)\n      (relu): ReLU(inplace=True)\n    )\n  )\n  (layer2): Sequential(\n    (0): Bottleneck(\n      (conv1): Conv2d(256, 128, kernel_size=(1, 1), stride=(1, 1), bias=False)\n      (bn1): BatchNorm2d(128, eps=1e-05, momentum=0.1, affine=True, track_running_stats=True)\n      (conv2): Conv2d(128, 128, kernel_size=(3, 3), stride=(2, 2), padding=(1, 1), bias=False)\n      (bn2): BatchNorm2d(128, eps=1e-05, momentum=0.1, affine=True, track_running_stats=True)\n      (conv3): Conv2d(128, 512, kernel_size=(1, 1), stride=(1, 1), bias=False)\n      (bn3): BatchNorm2d(512, eps=1e-05, momentum=0.1, affine=True, track_running_stats=True)\n      (relu): ReLU(inplace=True)\n      (downsample): Sequential(\n        (0): Conv2d(256, 512, kernel_size=(1, 1), stride=(2, 2), bias=False)\n        (1): BatchNorm2d(512, eps=1e-05, momentum=0.1, affine=True, track_running_stats=True)\n      )\n    )\n    (1): Bottleneck(\n      (conv1): Conv2d(512, 128, kernel_size=(1, 1), stride=(1, 1), bias=False)\n      (bn1): BatchNorm2d(128, eps=1e-05, momentum=0.1, affine=True, track_running_stats=True)\n      (conv2): Conv2d(128, 128, kernel_size=(3, 3), stride=(1, 1), padding=(1, 1), bias=False)\n      (bn2): BatchNorm2d(128, eps=1e-05, momentum=0.1, affine=True, track_running_stats=True)\n      (conv3): Conv2d(128, 512, kernel_size=(1, 1), stride=(1, 1), bias=False)\n      (bn3): BatchNorm2d(512, eps=1e-05, momentum=0.1, affine=True, track_running_stats=True)\n      (relu): ReLU(inplace=True)\n    )\n    (2): Bottleneck(\n      (conv1): Conv2d(512, 128, kernel_size=(1, 1), stride=(1, 1), bias=False)\n      (bn1): BatchNorm2d(128, eps=1e-05, momentum=0.1, affine=True, track_running_stats=True)\n      (conv2): Conv2d(128, 128, kernel_size=(3, 3), stride=(1, 1), padding=(1, 1), bias=False)\n      (bn2): BatchNorm2d(128, eps=1e-05, momentum=0.1, affine=True, track_running_stats=True)\n      (conv3): Conv2d(128, 512, kernel_size=(1, 1), stride=(1, 1), bias=False)\n      (bn3): BatchNorm2d(512, eps=1e-05, momentum=0.1, affine=True, track_running_stats=True)\n      (relu): ReLU(inplace=True)\n    )\n    (3): Bottleneck(\n      (conv1): Conv2d(512, 128, kernel_size=(1, 1), stride=(1, 1), bias=False)\n      (bn1): BatchNorm2d(128, eps=1e-05, momentum=0.1, affine=True, track_running_stats=True)\n      (conv2): Conv2d(128, 128, kernel_size=(3, 3), stride=(1, 1), padding=(1, 1), bias=False)\n      (bn2): BatchNorm2d(128, eps=1e-05, momentum=0.1, affine=True, track_running_stats=True)\n      (conv3): Conv2d(128, 512, kernel_size=(1, 1), stride=(1, 1), bias=False)\n      (bn3): BatchNorm2d(512, eps=1e-05, momentum=0.1, affine=True, track_running_stats=True)\n      (relu): ReLU(inplace=True)\n    )\n  )\n  (layer3): Sequential(\n    (0): Bottleneck(\n      (conv1): Conv2d(512, 256, kernel_size=(1, 1), stride=(1, 1), bias=False)\n      (bn1): BatchNorm2d(256, eps=1e-05, momentum=0.1, affine=True, track_running_stats=True)\n      (conv2): Conv2d(256, 256, kernel_size=(3, 3), stride=(2, 2), padding=(1, 1), bias=False)\n      (bn2): BatchNorm2d(256, eps=1e-05, momentum=0.1, affine=True, track_running_stats=True)\n      (conv3): Conv2d(256, 1024, kernel_size=(1, 1), stride=(1, 1), bias=False)\n      (bn3): BatchNorm2d(1024, eps=1e-05, momentum=0.1, affine=True, track_running_stats=True)\n      (relu): ReLU(inplace=True)\n      (downsample): Sequential(\n        (0): Conv2d(512, 1024, kernel_size=(1, 1), stride=(2, 2), bias=False)\n        (1): BatchNorm2d(1024, eps=1e-05, momentum=0.1, affine=True, track_running_stats=True)\n      )\n    )\n    (1): Bottleneck(\n      (conv1): Conv2d(1024, 256, kernel_size=(1, 1), stride=(1, 1), bias=False)\n      (bn1): BatchNorm2d(256, eps=1e-05, momentum=0.1, affine=True, track_running_stats=True)\n      (conv2): Conv2d(256, 256, kernel_size=(3, 3), stride=(1, 1), padding=(1, 1), bias=False)\n      (bn2): BatchNorm2d(256, eps=1e-05, momentum=0.1, affine=True, track_running_stats=True)\n      (conv3): Conv2d(256, 1024, kernel_size=(1, 1), stride=(1, 1), bias=False)\n      (bn3): BatchNorm2d(1024, eps=1e-05, momentum=0.1, affine=True, track_running_stats=True)\n      (relu): ReLU(inplace=True)\n    )\n    (2): Bottleneck(\n      (conv1): Conv2d(1024, 256, kernel_size=(1, 1), stride=(1, 1), bias=False)\n      (bn1): BatchNorm2d(256, eps=1e-05, momentum=0.1, affine=True, track_running_stats=True)\n      (conv2): Conv2d(256, 256, kernel_size=(3, 3), stride=(1, 1), padding=(1, 1), bias=False)\n      (bn2): BatchNorm2d(256, eps=1e-05, momentum=0.1, affine=True, track_running_stats=True)\n      (conv3): Conv2d(256, 1024, kernel_size=(1, 1), stride=(1, 1), bias=False)\n      (bn3): BatchNorm2d(1024, eps=1e-05, momentum=0.1, affine=True, track_running_stats=True)\n      (relu): ReLU(inplace=True)\n    )\n    (3): Bottleneck(\n      (conv1): Conv2d(1024, 256, kernel_size=(1, 1), stride=(1, 1), bias=False)\n      (bn1): BatchNorm2d(256, eps=1e-05, momentum=0.1, affine=True, track_running_stats=True)\n      (conv2): Conv2d(256, 256, kernel_size=(3, 3), stride=(1, 1), padding=(1, 1), bias=False)\n      (bn2): BatchNorm2d(256, eps=1e-05, momentum=0.1, affine=True, track_running_stats=True)\n      (conv3): Conv2d(256, 1024, kernel_size=(1, 1), stride=(1, 1), bias=False)\n      (bn3): BatchNorm2d(1024, eps=1e-05, momentum=0.1, affine=True, track_running_stats=True)\n      (relu): ReLU(inplace=True)\n    )\n    (4): Bottleneck(\n      (conv1): Conv2d(1024, 256, kernel_size=(1, 1), stride=(1, 1), bias=False)\n      (bn1): BatchNorm2d(256, eps=1e-05, momentum=0.1, affine=True, track_running_stats=True)\n      (conv2): Conv2d(256, 256, kernel_size=(3, 3), stride=(1, 1), padding=(1, 1), bias=False)\n      (bn2): BatchNorm2d(256, eps=1e-05, momentum=0.1, affine=True, track_running_stats=True)\n      (conv3): Conv2d(256, 1024, kernel_size=(1, 1), stride=(1, 1), bias=False)\n      (bn3): BatchNorm2d(1024, eps=1e-05, momentum=0.1, affine=True, track_running_stats=True)\n      (relu): ReLU(inplace=True)\n    )\n    (5): Bottleneck(\n      (conv1): Conv2d(1024, 256, kernel_size=(1, 1), stride=(1, 1), bias=False)\n      (bn1): BatchNorm2d(256, eps=1e-05, momentum=0.1, affine=True, track_running_stats=True)\n      (conv2): Conv2d(256, 256, kernel_size=(3, 3), stride=(1, 1), padding=(1, 1), bias=False)\n      (bn2): BatchNorm2d(256, eps=1e-05, momentum=0.1, affine=True, track_running_stats=True)\n      (conv3): Conv2d(256, 1024, kernel_size=(1, 1), stride=(1, 1), bias=False)\n      (bn3): BatchNorm2d(1024, eps=1e-05, momentum=0.1, affine=True, track_running_stats=True)\n      (relu): ReLU(inplace=True)\n    )\n  )\n  (layer4): Sequential(\n    (0): Bottleneck(\n      (conv1): Conv2d(1024, 512, kernel_size=(1, 1), stride=(1, 1), bias=False)\n      (bn1): BatchNorm2d(512, eps=1e-05, momentum=0.1, affine=True, track_running_stats=True)\n      (conv2): Conv2d(512, 512, kernel_size=(3, 3), stride=(2, 2), padding=(1, 1), bias=False)\n      (bn2): BatchNorm2d(512, eps=1e-05, momentum=0.1, affine=True, track_running_stats=True)\n      (conv3): Conv2d(512, 2048, kernel_size=(1, 1), stride=(1, 1), bias=False)\n      (bn3): BatchNorm2d(2048, eps=1e-05, momentum=0.1, affine=True, track_running_stats=True)\n      (relu): ReLU(inplace=True)\n      (downsample): Sequential(\n        (0): Conv2d(1024, 2048, kernel_size=(1, 1), stride=(2, 2), bias=False)\n        (1): BatchNorm2d(2048, eps=1e-05, momentum=0.1, affine=True, track_running_stats=True)\n      )\n    )\n    (1): Bottleneck(\n      (conv1): Conv2d(2048, 512, kernel_size=(1, 1), stride=(1, 1), bias=False)\n      (bn1): BatchNorm2d(512, eps=1e-05, momentum=0.1, affine=True, track_running_stats=True)\n      (conv2): Conv2d(512, 512, kernel_size=(3, 3), stride=(1, 1), padding=(1, 1), bias=False)\n      (bn2): BatchNorm2d(512, eps=1e-05, momentum=0.1, affine=True, track_running_stats=True)\n      (conv3): Conv2d(512, 2048, kernel_size=(1, 1), stride=(1, 1), bias=False)\n      (bn3): BatchNorm2d(2048, eps=1e-05, momentum=0.1, affine=True, track_running_stats=True)\n      (relu): ReLU(inplace=True)\n    )\n    (2): Bottleneck(\n      (conv1): Conv2d(2048, 512, kernel_size=(1, 1), stride=(1, 1), bias=False)\n      (bn1): BatchNorm2d(512, eps=1e-05, momentum=0.1, affine=True, track_running_stats=True)\n      (conv2): Conv2d(512, 512, kernel_size=(3, 3), stride=(1, 1), padding=(1, 1), bias=False)\n      (bn2): BatchNorm2d(512, eps=1e-05, momentum=0.1, affine=True, track_running_stats=True)\n      (conv3): Conv2d(512, 2048, kernel_size=(1, 1), stride=(1, 1), bias=False)\n      (bn3): BatchNorm2d(2048, eps=1e-05, momentum=0.1, affine=True, track_running_stats=True)\n      (relu): ReLU(inplace=True)\n    )\n  )\n  (avgpool): AdaptiveAvgPool2d(output_size=(1, 1))\n  (fc): Linear(in_features=2048, out_features=1000, bias=True)\n)"
     },
     "execution_count": 48,
     "metadata": {},
     "output_type": "execute_result"
    }
   ],
   "source": [
    "\"\"\" \n",
    "load Pytorch model to GPU\n",
    "\"\"\"\n",
    "\n",
    "device = torch.device(\"cuda:0\" if torch.cuda.is_available() else \"cpu\")\n",
    "resnet_pytorch_gpu = torch.load(\"resnet.pt\")\n",
    "resnet_pytorch_gpu.to(device)"
   ]
  },
  {
   "cell_type": "code",
   "execution_count": 49,
   "metadata": {},
   "outputs": [
    {
     "name": "stdout",
     "output_type": "stream",
     "text": [
      "torch.Size([1, 3, 224, 224])\n",
      "pytorch time: 0.035235s\n"
     ]
    }
   ],
   "source": [
    "\"\"\"\n",
    "Pytorch inference on GPU\n",
    "\"\"\"\n",
    "\n",
    "from matplotlib import pyplot as plt\n",
    "from PIL import Image\n",
    "import numpy as np\n",
    "img = Image.open('cat.png')\n",
    "img = transform(img)\n",
    "img = torch.unsqueeze(img, 0)\n",
    "print(img.size())\n",
    "\n",
    "infer_torch_gpu_timer = timer()\n",
    "infer_torch_gpu_timer.start()\n",
    "img.to(device)\n",
    "output = resnet_pytorch(img)\n",
    "infer_torch_gpu_timer.end()\n",
    "\n",
    "output = output.squeeze()\n",
    "print(\"pytorch time: %fs\"%(infer_torch_gpu_timer.totaltime))"
   ]
  },
  {
   "cell_type": "code",
   "execution_count": 50,
   "metadata": {},
   "outputs": [
    {
     "name": "stdout",
     "output_type": "stream",
     "text": [
      "tabby, tabby cat          | 43.14913%\n",
      "tiger cat                 | 29.68253%\n",
      "Egyptian cat              | 25.96065%\n",
      "tiger, Panthera tigris    | 00.34236%\n",
      "lynx, catamount           | 00.30307%\n"
     ]
    }
   ],
   "source": [
    "\"\"\"\n",
    "result of Pytorch on PGU\n",
    "\"\"\"\n",
    "\n",
    "_, index = torch.sort(output, descending=True)\n",
    "percentage = F.softmax(output)\n",
    "\n",
    "result_torch_gpu = [(label[i],percentage[i].item()*100) for i in index[:5]]\n",
    "for j in result_torch_gpu:\n",
    "    print(\"%-25s | %08.5f\"%(j[0],j[1])+\"%\")"
   ]
  },
  {
   "cell_type": "code",
   "execution_count": 51,
   "metadata": {},
   "outputs": [
    {
     "name": "stdout",
     "output_type": "stream",
     "text": [
      "torch.Size([1, 3, 224, 224])\n"
     ]
    }
   ],
   "source": [
    "\"\"\"\n",
    "image process and transform\n",
    "\"\"\"\n",
    "from matplotlib import pyplot as plt\n",
    "from PIL import Image\n",
    "import numpy as np\n",
    "img = Image.open('cat.png')\n",
    "img = transform(img)\n",
    "img = torch.unsqueeze(img, 0)\n",
    "print(img.size())"
   ]
  },
  {
   "cell_type": "code",
   "execution_count": 52,
   "metadata": {},
   "outputs": [],
   "source": [
    "\"\"\" \n",
    "pytorch to onnx and save as \"resnet.onnx\"\n",
    "\"\"\"\n",
    "\n",
    "import torch.onnx\n",
    "BATCH_SIZE=1\n",
    "dummy_input=torch.randn(BATCH_SIZE, 3, 224, 224)\n",
    "torch.onnx.export(resnet50, dummy_input, \"resnet.onnx\", verbose=False,input_names = ['input'], output_names = ['output'])"
   ]
  },
  {
   "cell_type": "code",
   "execution_count": 53,
   "metadata": {},
   "outputs": [
    {
     "name": "stdout",
     "output_type": "stream",
     "text": [
      "GPU\n",
      "load pytorch model: 0.061211 s\n"
     ]
    }
   ],
   "source": [
    "\"\"\"\n",
    "load onnx model\n",
    "\"\"\"\n",
    "\n",
    "import onnxruntime as rt\n",
    "\n",
    "\"\"\"\n",
    "Log severity level for a particular Run() invocation. \n",
    "0:Verbose, \n",
    "1:Info, \n",
    "2:Warning. \n",
    "3:Error, \n",
    "4:Fatal. \n",
    "\n",
    "Default is 2.\n",
    "\"\"\"\n",
    "rt.set_default_logger_severity(2)\n",
    "\n",
    "print(rt.get_device())\n",
    "load_onnx_timer = timer()\n",
    "load_onnx_timer.start()\n",
    "resnet_onnx = rt.InferenceSession(\"resnet.onnx\")\n",
    "load_onnx_timer.end()\n",
    "print(\"load pytorch model: %f s\" % (load_onnx_timer.totaltime))"
   ]
  },
  {
   "cell_type": "code",
   "execution_count": 54,
   "metadata": {},
   "outputs": [],
   "source": [
    "\"\"\" \n",
    "onnx inference \n",
    "\"\"\"\n",
    "\n",
    "def to_np(tensor):\n",
    "    return tensor.detach().cpu().numpy() if tensor.requires_grad else tensor.cpu().numpy()\n",
    "\n",
    "infer_onnx_timer = timer()\n",
    "ort_input = {resnet_onnx.get_inputs()[0].name:to_np(img)}\n",
    "infer_onnx_timer.start()\n",
    "output = resnet_onnx.run(None,ort_input)[0][0]\n",
    "infer_onnx_timer.end()\n",
    "\n",
    "output = torch.tensor(output)"
   ]
  },
  {
   "cell_type": "code",
   "execution_count": 55,
   "metadata": {},
   "outputs": [
    {
     "name": "stdout",
     "output_type": "stream",
     "text": [
      "tensor([281, 282, 285, 292, 287])\n",
      "tabby, tabby cat          | 43.14909%\n",
      "tiger cat                 | 29.68262%\n",
      "Egyptian cat              | 25.96060%\n",
      "tiger, Panthera tigris    | 00.34236%\n",
      "lynx, catamount           | 00.30307%\n"
     ]
    }
   ],
   "source": [
    "_, index = torch.sort(output, descending=True)\n",
    "percentage = F.softmax(output)\n",
    "\n",
    "print(index[:5])\n",
    "result_onnx = [(label[i],percentage[i].item()*100) for i in index[:5]]\n",
    "for j in result_onnx:\n",
    "    print(\"%-25s | %08.5f\"%(j[0],j[1])+\"%\")"
   ]
  },
  {
   "cell_type": "code",
   "execution_count": 56,
   "metadata": {},
   "outputs": [
    {
     "name": "stdout",
     "output_type": "stream",
     "text": [
      "load time\n",
      "Pytorch : 0.039026s\n",
      "onnx    : 0.061211s\n",
      "--------------------------------------------------\n",
      "infer time\n",
      "Pytorch : 0.044211s\n",
      "onnx    : 0.095819s\n"
     ]
    }
   ],
   "source": [
    "print(\"load time\")\n",
    "print(\"Pytorch : %fs\" % (load_torch_timer.totaltime))\n",
    "print(\"onnx    : %fs\" % (load_onnx_timer.totaltime))\n",
    "\n",
    "print(\"-\"*50)\n",
    "print(\"infer time\")\n",
    "print(\"Pytorch : %fs\" % (infer_torch_timer.totaltime))\n",
    "print(\"onnx    : %fs\" % (infer_onnx_timer.totaltime))"
   ]
  },
  {
   "cell_type": "code",
   "execution_count": 57,
   "metadata": {},
   "outputs": [
    {
     "name": "stdout",
     "output_type": "stream",
     "text": [
      "7.2.3.4\n"
     ]
    }
   ],
   "source": [
    "import tensorrt as trt\n",
    "\n",
    "print(trt.__version__)\n",
    "\n",
    "TRT_LOGGER = trt.Logger(trt.Logger.WARNING)\n",
    "trt_runtime = trt.Runtime(TRT_LOGGER)\n",
    "\n",
    "def build_engine(onnx_path, shape = [1,224,224,3]):\n",
    "\n",
    "   \"\"\"\n",
    "   create the TensorRT engine\n",
    "   Args:\n",
    "      onnx_path : Path to onnx_file. \n",
    "      shape : Shape of the input of the ONNX file. \n",
    "  \"\"\"\n",
    "   with trt.Builder(TRT_LOGGER) as builder, builder.create_network(1) as network, trt.OnnxParser(network, TRT_LOGGER) as parser:\n",
    "       builder.max_workspace_size = (256 << 20)\n",
    "       \"\"\"256 MB\"\"\"\n",
    "       with open(onnx_path, 'rb') as model:\n",
    "           parser.parse(model.read())\n",
    "       network.get_input(0).shape = shape\n",
    "       engine = builder.build_cuda_engine(network)\n",
    "       return engine\n",
    "\n",
    "def save_engine(engine, file_name):\n",
    "   buf = engine.serialize()\n",
    "   with open(file_name, 'wb') as f:\n",
    "       f.write(buf)\n",
    "\n",
    "def load_engine(trt_runtime, plan_path):\n",
    "   with open(plan_path, 'rb') as f:\n",
    "       engine_data = f.read()\n",
    "   engine = trt_runtime.deserialize_cuda_engine(engine_data)\n",
    "   return engine"
   ]
  },
  {
   "cell_type": "code",
   "execution_count": 58,
   "metadata": {},
   "outputs": [],
   "source": [
    "from onnx import ModelProto\n",
    "\n",
    "BATCH_SIZE=1\n",
    "dummy_input=torch.randn(BATCH_SIZE, 3, 224, 224)\n",
    "resnet50 = torchvision.models.resnet50(pretrained=True, progress=False).eval()\n",
    "torch.onnx.export(resnet50, dummy_input, \"resnet.onnx\", verbose=False,input_names = ['input'], output_names = ['output'])\n",
    "\n",
    "onnx_path = \"resnet.onnx\"\n",
    "trt_path  = \"resnet.plan\"\n",
    "\n",
    "model = ModelProto()\n",
    "with open(onnx_path, \"rb\") as f:\n",
    "  model.ParseFromString(f.read())\n",
    "\n",
    "batch_size = 1\n",
    "d0 = model.graph.input[0].type.tensor_type.shape.dim[1].dim_value\n",
    "d1 = model.graph.input[0].type.tensor_type.shape.dim[2].dim_value\n",
    "d2 = model.graph.input[0].type.tensor_type.shape.dim[3].dim_value\n",
    "shape = [batch_size , d0, d1 ,d2]\n",
    "\n",
    "\"\"\"\n",
    "build engine and start timer to get total build time\n",
    "\"\"\"\n",
    "build_trt_timer = timer()\n",
    "build_trt_timer.start()\n",
    "trt_engine = build_engine(onnx_path,shape)\n",
    "build_trt_timer.end()\n",
    "\n",
    "\n",
    "\"\"\"\n",
    "save engine as trt_path\n",
    "\"\"\"\n",
    "save_engine(trt_engine,trt_path)"
   ]
  },
  {
   "cell_type": "code",
   "execution_count": 59,
   "metadata": {},
   "outputs": [
    {
     "name": "stdout",
     "output_type": "stream",
     "text": [
      "build a tensorRT engine: 8.927228 s\n"
     ]
    }
   ],
   "source": [
    "print(\"build a tensorRT engine: %f s\" %(build_trt_timer.totaltime))"
   ]
  },
  {
   "cell_type": "code",
   "execution_count": 60,
   "metadata": {},
   "outputs": [],
   "source": [
    "import pycuda.driver as cuda\n",
    "import pycuda.autoinit \n",
    "\n",
    "def allocate_buffers(engine, batch_size, data_type):\n",
    "   \"\"\"\n",
    "   This is the function to allocate buffers for input and output in the device\n",
    "   args:\n",
    "      engine      : The path to the TensorRT engine. \n",
    "      batch_size  : The batch size for execution time.\n",
    "      data_type   : The type of the data for input and output, for example trt.float32. \n",
    "   \n",
    "   return:\n",
    "      h_input_1   : Input in the host.\n",
    "      d_input_1   : Input in the device. \n",
    "      h_output_1  : Output in the host. \n",
    "      d_output_1  : Output in the device. \n",
    "      stream      : CUDA stream.\n",
    "   \"\"\"\n",
    "\n",
    "   # Determine dimensions and create page-locked memory buffers (which won't be swapped to disk) to hold host inputs/outputs.\n",
    "   h_input_1 = cuda.pagelocked_empty(batch_size * trt.volume(engine.get_binding_shape(0)), dtype=trt.nptype(data_type))\n",
    "   h_output = cuda.pagelocked_empty(batch_size * trt.volume(engine.get_binding_shape(1)), dtype=trt.nptype(data_type))\n",
    "   # Allocate device memory for inputs and outputs.\n",
    "   d_input_1 = cuda.mem_alloc(h_input_1.nbytes)\n",
    "\n",
    "   d_output = cuda.mem_alloc(h_output.nbytes)\n",
    "   # Create a stream in which to copy inputs/outputs and run inference.\n",
    "   stream = cuda.Stream()\n",
    "   return h_input_1, d_input_1, h_output, d_output, stream \n",
    "\n",
    "def load_images_to_buffer(pics, pagelocked_buffer):\n",
    "   preprocessed = np.asarray(pics).ravel()\n",
    "   np.copyto(pagelocked_buffer, preprocessed) \n",
    "\n",
    "def do_inference(engine, pics_1, h_input_1, d_input_1, h_output, d_output, stream, batch_size):\n",
    "   \"\"\"\n",
    "   This is the function to run the inference\n",
    "   Args:\n",
    "      engine      : Path to the TensorRT engine \n",
    "      pics_1      : Input images to the model.  \n",
    "      h_input_1   : Input in the host         \n",
    "      d_input_1   : Input in the device \n",
    "      h_output_1  : Output in the host \n",
    "      d_output_1  : Output in the device \n",
    "      stream      : CUDA stream\n",
    "      batch_size  : Batch size for execution time\n",
    "   \n",
    "   Output:\n",
    "      The list of output images\n",
    "\n",
    "   \"\"\"\n",
    "\n",
    "   load_images_to_buffer(pics_1, h_input_1)\n",
    "\n",
    "   with engine.create_execution_context() as context:\n",
    "\n",
    "      \"\"\" copy data from host to device \"\"\"\n",
    "      cuda.memcpy_htod_async(d_input_1, h_input_1, stream)\n",
    "\n",
    "      # Run inference.\n",
    "      context.profiler = trt.Profiler()\n",
    "      context.execute(batch_size=1, bindings=[int(d_input_1), int(d_output)])\n",
    "\n",
    "      # Transfer predictions back from the GPU.\n",
    "      cuda.memcpy_dtoh_async(h_output, d_output, stream)\n",
    "\n",
    "      # Synchronize the stream\n",
    "      stream.synchronize()\n",
    "      \n",
    "      # Return the host output.\n",
    "      \n",
    "      return h_output"
   ]
  },
  {
   "cell_type": "code",
   "execution_count": 61,
   "metadata": {},
   "outputs": [],
   "source": [
    "\"\"\"\n",
    "load tensorRT engine\n",
    "\"\"\"\n",
    "\n",
    "load_trt_timer = timer()\n",
    "load_trt_timer.start()\n",
    "resnet_trt = load_engine(trt_runtime,trt_path)\n",
    "load_trt_timer.end()"
   ]
  },
  {
   "cell_type": "code",
   "execution_count": 62,
   "metadata": {},
   "outputs": [
    {
     "name": "stdout",
     "output_type": "stream",
     "text": [
      "load a tensorRT engine: 0.507418 s\n"
     ]
    }
   ],
   "source": [
    "print(\"load a tensorRT engine: %f s\" %(load_trt_timer.totaltime))"
   ]
  },
  {
   "cell_type": "code",
   "execution_count": 63,
   "metadata": {},
   "outputs": [],
   "source": [
    "\"\"\"\n",
    "inference step\n",
    "   workflow:\n",
    "      1. allocate buffer for input and output in GPU\n",
    "      2. copy data from host to device\n",
    "      3. run inference in GPU\n",
    "      4. copy result from GPU to the host\n",
    "      5. reshape (optional)\n",
    "\"\"\"\n",
    "\n",
    "\"\"\" allocate buffer \"\"\"\n",
    "\n",
    "host_input, device_input, host_output, device_output, stream = allocate_buffers(\n",
    "    engine = resnet_trt,\n",
    "    batch_size = 1,\n",
    "    data_type = trt.float32)"
   ]
  },
  {
   "cell_type": "code",
   "execution_count": 64,
   "metadata": {},
   "outputs": [
    {
     "name": "stdout",
     "output_type": "stream",
     "text": [
      "torch.Size([1, 3, 224, 224])\n"
     ]
    }
   ],
   "source": [
    "img = Image.open('cat.png')\n",
    "img = transform(img)\n",
    "img = torch.unsqueeze(img, 0)\n",
    "print(img.size())"
   ]
  },
  {
   "cell_type": "code",
   "execution_count": 65,
   "metadata": {},
   "outputs": [
    {
     "name": "stdout",
     "output_type": "stream",
     "text": [
      "Conv_0 + Relu_1: 0.08096ms\n",
      "MaxPool_2: 0.017728ms\n",
      "Conv_3 + Relu_4: 0.019552ms\n",
      "Conv_5 + Relu_6: 0.050528ms\n",
      "Conv_7: 0.0408ms\n",
      "Conv_8 + Add_9 + Relu_10: 0.046816ms\n",
      "Conv_11 + Relu_12: 0.043648ms\n",
      "Conv_13 + Relu_14: 0.049952ms\n",
      "Conv_15 + Add_16 + Relu_17: 0.046208ms\n",
      "Conv_18 + Relu_19: 0.043552ms\n",
      "Conv_20 + Relu_21: 0.05072ms\n",
      "Conv_22 + Add_23 + Relu_24: 0.046048ms\n",
      "Conv_22 + Add_23 + Relu_24 output reformatter 0: 0.030784ms\n",
      "Conv_25 + Relu_26: 0.063904ms\n",
      "Conv_27 + Relu_28: 0.073728ms\n",
      "Conv_29: 0.036672ms\n",
      "Conv_30 + Add_31 + Relu_32: 0.069056ms\n",
      "Conv_33 + Relu_34: 0.038528ms\n",
      "Conv_35 + Relu_36: 0.0736ms\n",
      "Conv_37 + Add_38 + Relu_39: 0.042816ms\n",
      "Conv_40 + Relu_41: 0.038368ms\n",
      "Conv_42 + Relu_43: 0.073536ms\n",
      "Conv_44 + Add_45 + Relu_46: 0.04272ms\n",
      "Conv_47 + Relu_48: 0.038208ms\n",
      "Conv_49 + Relu_50: 0.074272ms\n",
      "Conv_51 + Add_52 + Relu_53: 0.04304ms\n",
      "Conv_54 + Relu_55: 0.061504ms\n",
      "Conv_56 + Relu_57: 0.134048ms\n",
      "Conv_58: 0.061344ms\n",
      "Conv_59 + Add_60 + Relu_61: 0.108416ms\n",
      "Conv_59 + Add_60 + Relu_61 output reformatter 0: 0.011712ms\n",
      "Conv_62 + Relu_63: 0.05712ms\n",
      "Conv_64 + Relu_65: 0.076192ms\n",
      "Conv_66 + Add_67 + Relu_68: 0.060896ms\n",
      "Conv_69 + Relu_70: 0.056576ms\n",
      "Conv_71 + Relu_72: 0.076096ms\n",
      "Conv_73 + Add_74 + Relu_75: 0.061312ms\n",
      "Conv_76 + Relu_77: 0.057568ms\n",
      "Conv_78 + Relu_79: 0.076704ms\n",
      "Conv_80 + Add_81 + Relu_82: 0.061728ms\n",
      "Conv_83 + Relu_84: 0.056448ms\n",
      "Conv_85 + Relu_86: 0.076192ms\n",
      "Conv_87 + Add_88 + Relu_89: 0.06032ms\n",
      "Conv_90 + Relu_91: 0.057344ms\n",
      "Conv_92 + Relu_93: 0.076192ms\n",
      "Conv_94 + Add_95 + Relu_96: 0.061024ms\n",
      "Conv_97 + Relu_98: 0.093664ms\n",
      "Conv_99 + Relu_100 input reformatter 0: 0.00848ms\n",
      "Conv_99 + Relu_100: 0.256128ms\n",
      "Conv_101 input reformatter 0: 0.006944ms\n",
      "Conv_101: 0.057824ms\n",
      "Conv_102 + Add_103 + Relu_104: 0.208928ms\n",
      "Conv_105 + Relu_106: 0.095936ms\n",
      "Conv_107 + Relu_108: 0.103552ms\n",
      "Conv_109 + Add_110 + Relu_111: 0.10384ms\n",
      "Conv_112 + Relu_113: 0.09488ms\n",
      "Conv_114 + Relu_115: 0.1032ms\n",
      "Conv_116 + Add_117 + Relu_118: 0.10224ms\n",
      "GlobalAveragePool_119: 0.008736ms\n",
      "Gemm_121: 0.036608ms\n"
     ]
    }
   ],
   "source": [
    "\"\"\" inference \"\"\"\n",
    "infer_trt_timer = timer()\n",
    "infer_trt_timer.start()\n",
    "output = do_inference(\n",
    "    engine    = resnet_trt,\n",
    "    pics_1    = img,\n",
    "    h_input_1 = host_input,\n",
    "    d_input_1 = device_input,\n",
    "    h_output  = host_output,\n",
    "    d_output  = device_output,\n",
    "    stream    = stream,\n",
    "    batch_size= 1,\n",
    ")\n",
    "infer_trt_timer.end()"
   ]
  },
  {
   "cell_type": "code",
   "execution_count": 66,
   "metadata": {},
   "outputs": [
    {
     "name": "stdout",
     "output_type": "stream",
     "text": [
      "<class 'numpy.ndarray'>\n",
      "<class 'torch.Tensor'>\n"
     ]
    }
   ],
   "source": [
    "print(type(output))\n",
    "\"\"\" transform ndarray to Tensor \"\"\"\n",
    "output = torch.tensor(output)\n",
    "print(type(output))"
   ]
  },
  {
   "cell_type": "code",
   "execution_count": 67,
   "metadata": {},
   "outputs": [
    {
     "name": "stdout",
     "output_type": "stream",
     "text": [
      "tensor([281, 282, 285, 292, 287])\n",
      "tabby, tabby cat          | 43.14908%\n",
      "tiger cat                 | 29.68258%\n",
      "Egyptian cat              | 25.96064%\n",
      "tiger, Panthera tigris    | 00.34236%\n",
      "lynx, catamount           | 00.30307%\n"
     ]
    }
   ],
   "source": [
    "_, index = torch.sort(output, descending=True)\n",
    "percentage = F.softmax(output)\n",
    "\n",
    "print(index[:5])\n",
    "result_trt = [(label[i],percentage[i].item()*100) for i in index[:5]]\n",
    "for j in result_trt:\n",
    "    print(\"%-25s | %08.5f\"%(j[0],j[1])+\"%\")"
   ]
  },
  {
   "cell_type": "code",
   "execution_count": 68,
   "metadata": {},
   "outputs": [
    {
     "name": "stdout",
     "output_type": "stream",
     "text": [
      "load time\n",
      "Pytorch      : 0.039026s\n",
      "onnx runtime : 0.061211s\n",
      "tensorRT     : 0.507418s\n",
      "--------------------------------------------------\n",
      "infer time\n",
      "Pytorch      : 0.044211s\n",
      "Pytorch(GPU) : 0.035235s\n",
      "onnx runtime : 0.095819s\n",
      "tensorRT     : 0.009560s\n",
      "--------------------------------------------------\n",
      "result\n",
      "  Pytorch:\n",
      "     tabby, tabby cat          | 43.14913%\n",
      "     tiger cat                 | 29.68253%\n",
      "     Egyptian cat              | 25.96065%\n",
      "     tiger, Panthera tigris    | 00.34236%\n",
      "     lynx, catamount           | 00.30307%\n",
      "  Pytorch(GPU):\n",
      "     tabby, tabby cat          | 43.14913%\n",
      "     tiger cat                 | 29.68253%\n",
      "     Egyptian cat              | 25.96065%\n",
      "     tiger, Panthera tigris    | 00.34236%\n",
      "     lynx, catamount           | 00.30307%\n",
      "     ---------------------------------------------\n",
      "  onnx:\n",
      "     tabby, tabby cat          | 43.14909%\n",
      "     tiger cat                 | 29.68262%\n",
      "     Egyptian cat              | 25.96060%\n",
      "     tiger, Panthera tigris    | 00.34236%\n",
      "     lynx, catamount           | 00.30307%\n",
      "     ---------------------------------------------\n",
      "  tensorRT:\n",
      "     tabby, tabby cat          | 43.14908%\n",
      "     tiger cat                 | 29.68258%\n",
      "     Egyptian cat              | 25.96064%\n",
      "     tiger, Panthera tigris    | 00.34236%\n",
      "     lynx, catamount           | 00.30307%\n"
     ]
    }
   ],
   "source": [
    "print(\"load time\")\n",
    "print(\"Pytorch      : %fs\" % (load_torch_timer.totaltime))\n",
    "print(\"onnx runtime : %fs\" % (load_onnx_timer.totaltime))\n",
    "print(\"tensorRT     : %fs\" % (load_trt_timer.totaltime))\n",
    "\n",
    "print(\"-\"*50)\n",
    "print(\"infer time\")\n",
    "print(\"Pytorch      : %fs\" % (infer_torch_timer.totaltime))\n",
    "print(\"Pytorch(GPU) : %fs\" % (infer_torch_gpu_timer.totaltime))\n",
    "print(\"onnx runtime : %fs\" % (infer_onnx_timer.totaltime))\n",
    "print(\"tensorRT     : %fs\" % (infer_trt_timer.totaltime))\n",
    "\n",
    "print(\"-\"*50)\n",
    "print(\"result\")\n",
    "print(\"  Pytorch:\")\n",
    "for j in result_torch:\n",
    "    print(\"     %-25s | %08.5f\"%(j[0],j[1])+\"%\")\n",
    "\n",
    "print(\"  Pytorch(GPU):\")\n",
    "for j in result_torch_gpu:\n",
    "    print(\"     %-25s | %08.5f\"%(j[0],j[1])+\"%\")\n",
    "\n",
    "print(\" \"*5+\"-\"*45)\n",
    "print(\"  onnx:\")\n",
    "for j in result_onnx:\n",
    "    print(\"     %-25s | %08.5f\"%(j[0],j[1])+\"%\")\n",
    "\n",
    "print(\" \"*5+\"-\"*45)\n",
    "print(\"  tensorRT:\")\n",
    "for j in result_trt:\n",
    "    print(\"     %-25s | %08.5f\"%(j[0],j[1])+\"%\")"
   ]
  },
  {
   "cell_type": "code",
   "execution_count": 72,
   "metadata": {},
   "outputs": [
    {
     "data": {
      "image/png": "[encoded data removed]",
      "text/plain": "<Figure size 800x600 with 1 Axes>"
     },
     "metadata": {
      "needs_background": "light",
      "transient": {}
     },
     "output_type": "display_data"
    }
   ],
   "source": [
    "import matplotlib.pyplot as plt\n",
    "from matplotlib.pyplot import figure\n",
    "\n",
    "figure(figsize=(8,6),dpi=100)\n",
    "\n",
    "x_arr = [1,2,3,4]\n",
    "x_name = [\"Pytorch\",\"Pytorch(GPU)\",\"ONNX runtime\",\"TersorRT\"]\n",
    "infer = [infer_torch_timer.totaltime,infer_torch_gpu_timer.totaltime,infer_onnx_timer.totaltime,infer_trt_timer.totaltime]\n",
    "plt.bar(x_arr,infer)\n",
    "plt.xticks(x_arr,x_name)\n",
    "plt.title('inference time')\n",
    "plt.ylabel('time (s)')\n",
    "plt.show()"
   ]
  },
  {
   "cell_type": "code",
   "execution_count": null,
   "metadata": {},
   "outputs": [],
   "source": []
  },
  {
   "cell_type": "markdown",
   "metadata": {},
   "source": [
    "### TensorRT optimization\n",
    "\n",
    "1. Layer & Tensor Fusion\n",
    "    * 將 layer fusion 與移除沒用到的 layer\n",
    "    * ![Imgur](https://i.imgur.com/MI07Wn0.png)\n",
    "    * 如上圖中紅線匡選部份進行水平與垂直 fuse, 並且將 concat layer 給移除\n",
    "2. Weight &Activation Precision Calibration\n",
    "3. Kernel Auto-Tuning\n",
    "4. Dynamic Tensor Memory\n",
    "5. Multi-Stream Execution\n"
   ]
  },
  {
   "cell_type": "markdown",
   "metadata": {},
   "source": [
    "\n",
    "\n",
    "### reference and issues:\n",
    "\n",
    "* issue: **AttributeError: 'tensorrt.tensorrt.Builder' object has no attribute 'max_workspace_size'** \n",
    "    * error when nvidia-tensorrt is 8.x.x.x version\n",
    "    * sol: remove nvidia-tensorrt 8.x.x.x and install 7.2.\n",
    "    * ref: [(github issue link)](https://github.com/NVIDIA-AI-IOT/torch2trt/issues/557)\n",
    "* issue: **AttributeError: module 'google.protobuf.descriptor' has no attribute '_internal_create_key**\n",
    "    * error when ```protobuf``` version is  not equal to ```protoc```\n",
    "        * show ```protobuf``` version: ```pip3 show protobuf```\n",
    "        * show ```protoc``` version: ```protoc --version```\n",
    "    * sol: \n",
    "        1. update protobuf version:  ```pip3 install --upgrade protobuf``` \n",
    "        2. install ```protoc``` if not exist:\n",
    "            1. ```wget https://github.com/protocolbuffers/protobuf/releases/download/v3.17.3/protoc-3.17.3-linux-x86_64.zip```\n",
    "            2. ```unzip protoc-3.17.3-linux-x86_64.zip```\n",
    "            3. ```vim ~/.bashprofile``` and paste ```PATH=$PATH:/home/YOUR_HOST_NAME/bin```\n",
    "            4. ```source ~/.bashprofile``` and ```echo $PATH``` to check whether ```/home/YOUR_HOST_NAME/bin``` exist or not.\n",
    "    * ref: [stackoverflow linke](https://stackoverflow.com/questions/61922334/how-to-solve-attributeerror-module-google-protobuf-descriptor-has-no-attribu)\n",
    "* issue: disable layer fusion 比對前後 perfermance?\n",
    "    * 根據 [How to disable graph optimization(layer fusion)?](https://forums.developer.nvidia.com/t/how-to-disable-graph-optimization-layer-fusion/146343) 表示目前不提供, 但根據 [Disable layer fusion optimizations? ](https://github.com/NVIDIA/TensorRT/issues/252) 提到有方法可以間接達成(```network.mark_output(layer)```), 但會額外造成 [latency](https://github.com/NVIDIA/TensorRT/pull/495)\n",
    "* [Imagenet label](https://gist.githubusercontent.com/yrevar/942d3a0ac09ec9e5eb3a/raw/238f720ff059c1f82f368259d1ca4ffa5dd8f9f5/imagenet1000_clsidx_to_labels.txt)\n",
    "* [NVIDIA onnx to tensorRT](https://developer.nvidia.com/blog/speeding-up-deep-learning-inference-using-tensorflow-onnx-and-tensorrt/)\n",
    "    * [zh-cn (注意中文文檔中 ```save_engine``` 中的 code 有錯)](https://developer.nvidia.com/zh-cn/blog/speeding-up-deep-learning-inference-using-tensorflow-onnx-and-tensorrt/)\n",
    "* [NVIDIA TensorRT Documentation](https://docs.nvidia.com/deeplearning/tensorrt/developer-guide/index.html#python_topics)\n",
    "* [NVIDIA TensorRT Quick Start Guide](https://docs.nvidia.com/deeplearning/tensorrt/quick-start-guide/index.html)\n",
    "* [Jetson Nano 运用TensorRT加速引擎 上篇](https://www.rs-online.com/designspark/nvidia-cudagpujetson-nano-tensorrt-cn)\n",
    "* [Jetson Nano 运用TensorRT加速引擎 下篇](https://www.rs-online.com/designspark/nvidia-cudagpujetson-nano-tensorrt-3-cn)\n",
    "* [Pytorch EXPORTING A MODEL FROM PYTORCH TO ONNX AND RUNNING IT USING ONNX RUNTIME](https://pytorch.org/tutorials/advanced/super_resolution_with_onnxruntime.html)\n",
    "* [ONNX runtime document](https://onnxruntime.ai/python/tutorial.html)\n",
    "* [ONNX: Preventing Framework Lock in](https://towardsdatascience.com/onnx-preventing-framework-lock-in-9a798fb34c92)\n",
    "* [TensorRT 实现深度网络模型推理加速](https://on-demand.gputechconf.com/gtc-cn/2018/pdf/CH8212.pdf)"
   ]
  }
 ],
 "metadata": {
  "kernelspec": {
   "display_name": "Python 3.8.10 64-bit",
   "metadata": {
    "interpreter": {
     "hash": "df0893f56f349688326838aaeea0de204df53a132722cbd565e54b24a8fec5f6"
    }
   },
   "name": "python3"
  },
  "language_info": {
   "codemirror_mode": {
    "name": "ipython",
    "version": 3
   },
   "file_extension": ".py",
   "mimetype": "text/x-python",
   "name": "python",
   "nbconvert_exporter": "python",
   "pygments_lexer": "ipython3",
   "version": "3.8.10"
  },
  "orig_nbformat": 2
 },
 "nbformat": 4,
 "nbformat_minor": 2
}