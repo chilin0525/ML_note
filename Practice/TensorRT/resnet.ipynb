{
 "cells": [
  {
   "cell_type": "code",
   "execution_count": 116,
   "metadata": {},
   "outputs": [
    {
     "name": "stderr",
     "output_type": "stream",
     "text": [
      "--2021-08-17 13:35:19--  https://gist.githubusercontent.com/yrevar/942d3a0ac09ec9e5eb3a/raw/238f720ff059c1f82f368259d1ca4ffa5dd8f9f5/imagenet1000_clsidx_to_labels.txt\n",
      "Resolving gist.githubusercontent.com (gist.githubusercontent.com)... 185.199.108.133, 185.199.110.133, 185.199.109.133, ...\n",
      "Connecting to gist.githubusercontent.com (gist.githubusercontent.com)|185.199.108.133|:443... connected.\n",
      "HTTP request sent, awaiting response... 200 OK\n",
      "Length: 30564 (30K) [text/plain]\n",
      "Saving to: ‘ImageNet_label’\n",
      "\n",
      "     0K .......... .......... .........                       100% 3.27M=0.009s\n",
      "\n",
      "2021-08-17 13:35:19 (3.27 MB/s) - ‘ImageNet_label’ saved [30564/30564]\n",
      "\n"
     ]
    },
    {
     "name": "stdout",
     "output_type": "stream",
     "text": [
      "['tench, Tinca tinca', 'goldfish, Carassius auratus', 'great white shark, white shark, man-eater, man-eating shark, Carcharodon carcharias', 'tiger shark, Galeocerdo cuvieri', 'hammerhead, hammerhead shark', 'electric ray, crampfish, numbfish, torpedo', 'stingray', 'cock', 'hen', 'ostrich, Struthio camelus', 'brambling, Fringilla montifringilla', 'goldfinch, Carduelis carduelis', 'house finch, linnet, Carpodacus mexicanus', 'junco, snowbird', 'indigo bunting, indigo finch, indigo bird, Passerina cyanea', 'robin, American robin, Turdus migratorius', 'bulbul', 'jay', 'magpie', 'chickadee', 'water ouzel, dipper', 'kite', 'bald eagle, American eagle, Haliaeetus leucocephalus', 'vulture', 'great grey owl, great gray owl, Strix nebulosa', 'European fire salamander, Salamandra salamandra', 'common newt, Triturus vulgaris', 'eft', 'spotted salamander, Ambystoma maculatum', 'axolotl, mud puppy, Ambystoma mexicanum', 'bullfrog, Rana catesbeiana', 'tree frog, tree-frog', 'tailed frog, bell toad, ribbed toad, tailed toad, Ascaphus trui', 'loggerhead, loggerhead turtle, Caretta caretta', 'leatherback turtle, leatherback, leathery turtle, Dermochelys coriacea', 'mud turtle', 'terrapin', 'box turtle, box tortoise', 'banded gecko', 'common iguana, iguana, Iguana iguana', 'American chameleon, anole, Anolis carolinensis', 'whiptail, whiptail lizard', 'agama', 'frilled lizard, Chlamydosaurus kingi', 'alligator lizard', 'Gila monster, Heloderma suspectum', 'green lizard, Lacerta viridis', 'African chameleon, Chamaeleo chamaeleon', 'Komodo dragon, Komodo lizard, dragon lizard, giant lizard, Varanus komodoensis', 'African crocodile, Nile crocodile, Crocodylus niloticus', 'American alligator, Alligator mississipiensis', 'triceratops', 'thunder snake, worm snake, Carphophis amoenus', 'ringneck snake, ring-necked snake, ring snake', 'hognose snake, puff adder, sand viper', 'green snake, grass snake', 'king snake, kingsnake', 'garter snake, grass snake', 'water snake', 'vine snake', 'night snake, Hypsiglena torquata', 'boa constrictor, Constrictor constrictor', 'rock python, rock snake, Python sebae', 'Indian cobra, Naja naja', 'green mamba', 'sea snake', 'horned viper, cerastes, sand viper, horned asp, Cerastes cornutus', 'diamondback, diamondback rattlesnake, Crotalus adamanteus', 'sidewinder, horned rattlesnake, Crotalus cerastes', 'trilobite', 'harvestman, daddy longlegs, Phalangium opilio', 'scorpion', 'black and gold garden spider, Argiope aurantia', 'barn spider, Araneus cavaticus', 'garden spider, Aranea diademata', 'black widow, Latrodectus mactans', 'tarantula', 'wolf spider, hunting spider', 'tick', 'centipede', 'black grouse', 'ptarmigan', 'ruffed grouse, partridge, Bonasa umbellus', 'prairie chicken, prairie grouse, prairie fowl', 'peacock', 'quail', 'partridge', 'African grey, African gray, Psittacus erithacus', 'macaw', 'sulphur-crested cockatoo, Kakatoe galerita, Cacatua galerita', 'lorikeet', 'coucal', 'bee eater', 'hornbill', 'hummingbird', 'jacamar', 'toucan', 'drake', 'red-breasted merganser, Mergus serrator', 'goose', 'black swan, Cygnus atratus', 'tusker', 'echidna, spiny anteater, anteater', 'platypus, duckbill, duckbilled platypus, duck-billed platypus, Ornithorhynchus anatinus', 'wallaby, brush kangaroo', 'koala, koala bear, kangaroo bear, native bear, Phascolarctos cinereus', 'wombat', 'jellyfish', 'sea anemone, anemone', 'brain coral', 'flatworm, platyhelminth', 'nematode, nematode worm, roundworm', 'conch', 'snail', 'slug', 'sea slug, nudibranch', 'chiton, coat-of-mail shell, sea cradle, polyplacophore', 'chambered nautilus, pearly nautilus, nautilus', 'Dungeness crab, Cancer magister', 'rock crab, Cancer irroratus', 'fiddler crab', 'king crab, Alaska crab, Alaskan king crab, Alaska king crab, Paralithodes camtschatica', 'American lobster, Northern lobster, Maine lobster, Homarus americanus', 'spiny lobster, langouste, rock lobster, crawfish, crayfish, sea crawfish', 'crayfish, crawfish, crawdad, crawdaddy', 'hermit crab', 'isopod', 'white stork, Ciconia ciconia', 'black stork, Ciconia nigra', 'spoonbill', 'flamingo', 'little blue heron, Egretta caerulea', 'American egret, great white heron, Egretta albus', 'bittern', 'crane', 'limpkin, Aramus pictus', 'European gallinule, Porphyrio porphyrio', 'American coot, marsh hen, mud hen, water hen, Fulica americana', 'bustard', 'ruddy turnstone, Arenaria interpres', 'red-backed sandpiper, dunlin, Erolia alpina', 'redshank, Tringa totanus', 'dowitcher', 'oystercatcher, oyster catcher', 'pelican', 'king penguin, Aptenodytes patagonica', 'albatross, mollymawk', 'grey whale, gray whale, devilfish, Eschrichtius gibbosus, Eschrichtius robustus', 'killer whale, killer, orca, grampus, sea wolf, Orcinus orca', 'dugong, Dugong dugon', 'sea lion', 'Chihuahua', 'Japanese spaniel', 'Maltese dog, Maltese terrier, Maltese', 'Pekinese, Pekingese, Peke', 'Shih-Tzu', 'Blenheim spaniel', 'papillon', 'toy terrier', 'Rhodesian ridgeback', 'Afghan hound, Afghan', 'basset, basset hound', 'beagle', 'bloodhound, sleuthhound', 'bluetick', 'black-and-tan coonhound', 'Walker hound, Walker foxhound', 'English foxhound', 'redbone', 'borzoi, Russian wolfhound', 'Irish wolfhound', 'Italian greyhound', 'whippet', 'Ibizan hound, Ibizan Podenco', 'Norwegian elkhound, elkhound', 'otterhound, otter hound', 'Saluki, gazelle hound', 'Scottish deerhound, deerhound', 'Weimaraner', 'Staffordshire bullterrier, Staffordshire bull terrier', 'American Staffordshire terrier, Staffordshire terrier, American pit bull terrier, pit bull terrier', 'Bedlington terrier', 'Border terrier', 'Kerry blue terrier', 'Irish terrier', 'Norfolk terrier', 'Norwich terrier', 'Yorkshire terrier', 'wire-haired fox terrier', 'Lakeland terrier', 'Sealyham terrier, Sealyham', 'Airedale, Airedale terrier', 'cairn, cairn terrier', 'Australian terrier', 'Dandie Dinmont, Dandie Dinmont terrier', 'Boston bull, Boston terrier', 'miniature schnauzer', 'giant schnauzer', 'standard schnauzer', 'Scotch terrier, Scottish terrier, Scottie', 'Tibetan terrier, chrysanthemum dog', 'silky terrier, Sydney silky', 'soft-coated wheaten terrier', 'West Highland white terrier', 'Lhasa, Lhasa apso', 'flat-coated retriever', 'curly-coated retriever', 'golden retriever', 'Labrador retriever', 'Chesapeake Bay retriever', 'German short-haired pointer', 'vizsla, Hungarian pointer', 'English setter', 'Irish setter, red setter', 'Gordon setter', 'Brittany spaniel', 'clumber, clumber spaniel', 'English springer, English springer spaniel', 'Welsh springer spaniel', 'cocker spaniel, English cocker spaniel, cocker', 'Sussex spaniel', 'Irish water spaniel', 'kuvasz', 'schipperke', 'groenendael', 'malinois', 'briard', 'kelpie', 'komondor', 'Old English sheepdog, bobtail', 'Shetland sheepdog, Shetland sheep dog, Shetland', 'collie', 'Border collie', 'Bouvier des Flandres, Bouviers des Flandres', 'Rottweiler', 'German shepherd, German shepherd dog, German police dog, alsatian', 'Doberman, Doberman pinscher', 'miniature pinscher', 'Greater Swiss Mountain dog', 'Bernese mountain dog', 'Appenzeller', 'EntleBucher', 'boxer', 'bull mastiff', 'Tibetan mastiff', 'French bulldog', 'Great Dane', 'Saint Bernard, St Bernard', 'Eskimo dog, husky', 'malamute, malemute, Alaskan malamute', 'Siberian husky', 'dalmatian, coach dog, carriage dog', 'affenpinscher, monkey pinscher, monkey dog', 'basenji', 'pug, pug-dog', 'Leonberg', 'Newfoundland, Newfoundland dog', 'Great Pyrenees', 'Samoyed, Samoyede', 'Pomeranian', 'chow, chow chow', 'keeshond', 'Brabancon griffon', 'Pembroke, Pembroke Welsh corgi', 'Cardigan, Cardigan Welsh corgi', 'toy poodle', 'miniature poodle', 'standard poodle', 'Mexican hairless', 'timber wolf, grey wolf, gray wolf, Canis lupus', 'white wolf, Arctic wolf, Canis lupus tundrarum', 'red wolf, maned wolf, Canis rufus, Canis niger', 'coyote, prairie wolf, brush wolf, Canis latrans', 'dingo, warrigal, warragal, Canis dingo', 'dhole, Cuon alpinus', 'African hunting dog, hyena dog, Cape hunting dog, Lycaon pictus', 'hyena, hyaena', 'red fox, Vulpes vulpes', 'kit fox, Vulpes macrotis', 'Arctic fox, white fox, Alopex lagopus', 'grey fox, gray fox, Urocyon cinereoargenteus', 'tabby, tabby cat', 'tiger cat', 'Persian cat', 'Siamese cat, Siamese', 'Egyptian cat', 'cougar, puma, catamount, mountain lion, painter, panther, Felis concolor', 'lynx, catamount', 'leopard, Panthera pardus', 'snow leopard, ounce, Panthera uncia', 'jaguar, panther, Panthera onca, Felis onca', 'lion, king of beasts, Panthera leo', 'tiger, Panthera tigris', 'cheetah, chetah, Acinonyx jubatus', 'brown bear, bruin, Ursus arctos', 'American black bear, black bear, Ursus americanus, Euarctos americanus', 'ice bear, polar bear, Ursus Maritimus, Thalarctos maritimus', 'sloth bear, Melursus ursinus, Ursus ursinus', 'mongoose', 'meerkat, mierkat', 'tiger beetle', 'ladybug, ladybeetle, lady beetle, ladybird, ladybird beetle', 'ground beetle, carabid beetle', 'long-horned beetle, longicorn, longicorn beetle', 'leaf beetle, chrysomelid', 'dung beetle', 'rhinoceros beetle', 'weevil', 'fly', 'bee', 'ant, emmet, pismire', 'grasshopper, hopper', 'cricket', 'walking stick, walkingstick, stick insect', 'cockroach, roach', 'mantis, mantid', 'cicada, cicala', 'leafhopper', 'lacewing, lacewing fly', 's darning needle, sewing needle, snake feeder, snake doctor, mosquito hawk, skeeter hawk\",\\n', 'damselfly', 'admiral', 'ringlet, ringlet butterfly', 'monarch, monarch butterfly, milkweed butterfly, Danaus plexippus', 'cabbage butterfly', 'sulphur butterfly, sulfur butterfly', 'lycaenid, lycaenid butterfly', 'starfish, sea star', 'sea urchin', 'sea cucumber, holothurian', 'wood rabbit, cottontail, cottontail rabbit', 'hare', 'Angora, Angora rabbit', 'hamster', 'porcupine, hedgehog', 'fox squirrel, eastern fox squirrel, Sciurus niger', 'marmot', 'beaver', 'guinea pig, Cavia cobaya', 'sorrel', 'zebra', 'hog, pig, grunter, squealer, Sus scrofa', 'wild boar, boar, Sus scrofa', 'warthog', 'hippopotamus, hippo, river horse, Hippopotamus amphibius', 'ox', 'water buffalo, water ox, Asiatic buffalo, Bubalus bubalis', 'bison', 'ram, tup', 'bighorn, bighorn sheep, cimarron, Rocky Mountain bighorn, Rocky Mountain sheep, Ovis canadensis', 'ibex, Capra ibex', 'hartebeest', 'impala, Aepyceros melampus', 'gazelle', 'Arabian camel, dromedary, Camelus dromedarius', 'llama', 'weasel', 'mink', 'polecat, fitch, foulmart, foumart, Mustela putorius', 'black-footed ferret, ferret, Mustela nigripes', 'otter', 'skunk, polecat, wood pussy', 'badger', 'armadillo', 'three-toed sloth, ai, Bradypus tridactylus', 'orangutan, orang, orangutang, Pongo pygmaeus', 'gorilla, Gorilla gorilla', 'chimpanzee, chimp, Pan troglodytes', 'gibbon, Hylobates lar', 'siamang, Hylobates syndactylus, Symphalangus syndactylus', 'guenon, guenon monkey', 'patas, hussar monkey, Erythrocebus patas', 'baboon', 'macaque', 'langur', 'colobus, colobus monkey', 'proboscis monkey, Nasalis larvatus', 'marmoset', 'capuchin, ringtail, Cebus capucinus', 'howler monkey, howler', 'titi, titi monkey', 'spider monkey, Ateles geoffroyi', 'squirrel monkey, Saimiri sciureus', 'Madagascar cat, ring-tailed lemur, Lemur catta', 'indri, indris, Indri indri, Indri brevicaudatus', 'Indian elephant, Elephas maximus', 'African elephant, Loxodonta africana', 'lesser panda, red panda, panda, bear cat, cat bear, Ailurus fulgens', 'giant panda, panda, panda bear, coon bear, Ailuropoda melanoleuca', 'barracouta, snoek', 'eel', 'coho, cohoe, coho salmon, blue jack, silver salmon, Oncorhynchus kisutch', 'rock beauty, Holocanthus tricolor', 'anemone fish', 'sturgeon', 'gar, garfish, garpike, billfish, Lepisosteus osseus', 'lionfish', 'puffer, pufferfish, blowfish, globefish', 'abacus', 'abaya', 's robe\",\\n', 'accordion, piano accordion, squeeze box', 'acoustic guitar', 'aircraft carrier, carrier, flattop, attack aircraft carrier', 'airliner', 'airship, dirigible', 'altar', 'ambulance', 'amphibian, amphibious vehicle', 'analog clock', 'apiary, bee house', 'apron', 'ashcan, trash can, garbage can, wastebin, ash bin, ash-bin, ashbin, dustbin, trash barrel, trash bin', 'assault rifle, assault gun', 'backpack, back pack, knapsack, packsack, rucksack, haversack', 'bakery, bakeshop, bakehouse', 'balance beam, beam', 'balloon', 'ballpoint, ballpoint pen, ballpen, Biro', 'Band Aid', 'banjo', 'bannister, banister, balustrade, balusters, handrail', 'barbell', 'barber chair', 'barbershop', 'barn', 'barometer', 'barrel, cask', 'barrow, garden cart, lawn cart, wheelbarrow', 'baseball', 'basketball', 'bassinet', 'bassoon', 'bathing cap, swimming cap', 'bath towel', 'bathtub, bathing tub, bath, tub', 'beach wagon, station wagon, wagon, estate car, beach waggon, station waggon, waggon', 'beacon, lighthouse, beacon light, pharos', 'beaker', 'bearskin, busby, shako', 'beer bottle', 'beer glass', 'bell cote, bell cot', 'bib', 'bicycle-built-for-two, tandem bicycle, tandem', 'bikini, two-piece', 'binder, ring-binder', 'binoculars, field glasses, opera glasses', 'birdhouse', 'boathouse', 'bobsled, bobsleigh, bob', 'bolo tie, bolo, bola tie, bola', 'bonnet, poke bonnet', 'bookcase', 'bookshop, bookstore, bookstall', 'bottlecap', 'bow', 'bow tie, bow-tie, bowtie', 'brass, memorial tablet, plaque', 'brassiere, bra, bandeau', 'breakwater, groin, groyne, mole, bulwark, seawall, jetty', 'breastplate, aegis, egis', 'broom', 'bucket, pail', 'buckle', 'bulletproof vest', 'bullet train, bullet', 'butcher shop, meat market', 'cab, hack, taxi, taxicab', 'caldron, cauldron', 'candle, taper, wax light', 'cannon', 'canoe', 'can opener, tin opener', 'cardigan', 'car mirror', 'carousel, carrousel, merry-go-round, roundabout, whirligig', 's kit, tool kit\",\\n', 'carton', 'car wheel', 'cash machine, cash dispenser, automated teller machine, automatic teller machine, automated teller, automatic teller, ATM', 'cassette', 'cassette player', 'castle', 'catamaran', 'CD player', 'cello, violoncello', 'cellular telephone, cellular phone, cellphone, cell, mobile phone', 'chain', 'chainlink fence', 'chain mail, ring mail, mail, chain armor, chain armour, ring armor, ring armour', 'chain saw, chainsaw', 'chest', 'chiffonier, commode', 'chime, bell, gong', 'china cabinet, china closet', 'Christmas stocking', 'church, church building', 'cinema, movie theater, movie theatre, movie house, picture palace', 'cleaver, meat cleaver, chopper', 'cliff dwelling', 'cloak', 'clog, geta, patten, sabot', 'cocktail shaker', 'coffee mug', 'coffeepot', 'coil, spiral, volute, whorl, helix', 'combination lock', 'computer keyboard, keypad', 'confectionery, confectionary, candy store', 'container ship, containership, container vessel', 'convertible', 'corkscrew, bottle screw', 'cornet, horn, trumpet, trump', 'cowboy boot', 'cowboy hat, ten-gallon hat', 'cradle', 'crane', 'crash helmet', 'crate', 'crib, cot', 'Crock Pot', 'croquet ball', 'crutch', 'cuirass', 'dam, dike, dyke', 'desk', 'desktop computer', 'dial telephone, dial phone', 'diaper, nappy, napkin', 'digital clock', 'digital watch', 'dining table, board', 'dishrag, dishcloth', 'dishwasher, dish washer, dishwashing machine', 'disk brake, disc brake', 'dock, dockage, docking facility', 'dogsled, dog sled, dog sleigh', 'dome', 'doormat, welcome mat', 'drilling platform, offshore rig', 'drum, membranophone, tympan', 'drumstick', 'dumbbell', 'Dutch oven', 'electric fan, blower', 'electric guitar', 'electric locomotive', 'entertainment center', 'envelope', 'espresso maker', 'face powder', 'feather boa, boa', 'file, file cabinet, filing cabinet', 'fireboat', 'fire engine, fire truck', 'fire screen, fireguard', 'flagpole, flagstaff', 'flute, transverse flute', 'folding chair', 'football helmet', 'forklift', 'fountain', 'fountain pen', 'four-poster', 'freight car', 'French horn, horn', 'frying pan, frypan, skillet', 'fur coat', 'garbage truck, dustcart', 'gasmask, respirator, gas helmet', 'gas pump, gasoline pump, petrol pump, island dispenser', 'goblet', 'go-kart', 'golf ball', 'golfcart, golf cart', 'gondola', 'gong, tam-tam', 'gown', 'grand piano, grand', 'greenhouse, nursery, glasshouse', 'grille, radiator grille', 'grocery store, grocery, food market, market', 'guillotine', 'hair slide', 'hair spray', 'half track', 'hammer', 'hamper', 'hand blower, blow dryer, blow drier, hair dryer, hair drier', 'hand-held computer, hand-held microcomputer', 'handkerchief, hankie, hanky, hankey', 'hard disc, hard disk, fixed disk', 'harmonica, mouth organ, harp, mouth harp', 'harp', 'harvester, reaper', 'hatchet', 'holster', 'home theater, home theatre', 'honeycomb', 'hook, claw', 'hoopskirt, crinoline', 'horizontal bar, high bar', 'horse cart, horse-cart', 'hourglass', 'iPod', 'iron, smoothing iron', '-lantern\",\\n', 'jean, blue jean, denim', 'jeep, landrover', 'jersey, T-shirt, tee shirt', 'jigsaw puzzle', 'jinrikisha, ricksha, rickshaw', 'joystick', 'kimono', 'knee pad', 'knot', 'lab coat, laboratory coat', 'ladle', 'lampshade, lamp shade', 'laptop, laptop computer', 'lawn mower, mower', 'lens cap, lens cover', 'letter opener, paper knife, paperknife', 'library', 'lifeboat', 'lighter, light, igniter, ignitor', 'limousine, limo', 'liner, ocean liner', 'lipstick, lip rouge', 'Loafer', 'lotion', 'loudspeaker, speaker, speaker unit, loudspeaker system, speaker system', 's loupe\",\\n', 'lumbermill, sawmill', 'magnetic compass', 'mailbag, postbag', 'mailbox, letter box', 'maillot', 'maillot, tank suit', 'manhole cover', 'maraca', 'marimba, xylophone', 'mask', 'matchstick', 'maypole', 'maze, labyrinth', 'measuring cup', 'medicine chest, medicine cabinet', 'megalith, megalithic structure', 'microphone, mike', 'microwave, microwave oven', 'military uniform', 'milk can', 'minibus', 'miniskirt, mini', 'minivan', 'missile', 'mitten', 'mixing bowl', 'mobile home, manufactured home', 'Model T', 'modem', 'monastery', 'monitor', 'moped', 'mortar', 'mortarboard', 'mosque', 'mosquito net', 'motor scooter, scooter', 'mountain bike, all-terrain bike, off-roader', 'mountain tent', 'mouse, computer mouse', 'mousetrap', 'moving van', 'muzzle', 'nail', 'neck brace', 'necklace', 'nipple', 'notebook, notebook computer', 'obelisk', 'oboe, hautboy, hautbois', 'ocarina, sweet potato', 'odometer, hodometer, mileometer, milometer', 'oil filter', 'organ, pipe organ', 'oscilloscope, scope, cathode-ray oscilloscope, CRO', 'overskirt', 'oxcart', 'oxygen mask', 'packet', 'paddle, boat paddle', 'paddlewheel, paddle wheel', 'padlock', 'paintbrush', 's, jammies\",\\n', 'palace', 'panpipe, pandean pipe, syrinx', 'paper towel', 'parachute, chute', 'parallel bars, bars', 'park bench', 'parking meter', 'passenger car, coach, carriage', 'patio, terrace', 'pay-phone, pay-station', 'pedestal, plinth, footstall', 'pencil box, pencil case', 'pencil sharpener', 'perfume, essence', 'Petri dish', 'photocopier', 'pick, plectrum, plectron', 'pickelhaube', 'picket fence, paling', 'pickup, pickup truck', 'pier', 'piggy bank, penny bank', 'pill bottle', 'pillow', 'ping-pong ball', 'pinwheel', 'pirate, pirate ship', 'pitcher, ewer', 's plane, woodworking plane\",\\n', 'planetarium', 'plastic bag', 'plate rack', 'plow, plough', 's helper\",\\n', 'Polaroid camera, Polaroid Land camera', 'pole', 'police van, police wagon, paddy wagon, patrol wagon, wagon, black Maria', 'poncho', 'pool table, billiard table, snooker table', 'pop bottle, soda bottle', 'pot, flowerpot', 's wheel\",\\n', 'power drill', 'prayer rug, prayer mat', 'printer', 'prison, prison house', 'projectile, missile', 'projector', 'puck, hockey puck', 'punching bag, punch bag, punching ball, punchball', 'purse', 'quill, quill pen', 'quilt, comforter, comfort, puff', 'racer, race car, racing car', 'racket, racquet', 'radiator', 'radio, wireless', 'radio telescope, radio reflector', 'rain barrel', 'recreational vehicle, RV, R.V.', 'reel', 'reflex camera', 'refrigerator, icebox', 'remote control, remote', 'restaurant, eating house, eating place, eatery', 'revolver, six-gun, six-shooter', 'rifle', 'rocking chair, rocker', 'rotisserie', 'rubber eraser, rubber, pencil eraser', 'rugby ball', 'rule, ruler', 'running shoe', 'safe', 'safety pin', 'saltshaker, salt shaker', 'sandal', 'sarong', 'sax, saxophone', 'scabbard', 'scale, weighing machine', 'school bus', 'schooner', 'scoreboard', 'screen, CRT screen', 'screw', 'screwdriver', 'seat belt, seatbelt', 'sewing machine', 'shield, buckler', 'shoe shop, shoe-shop, shoe store', 'shoji', 'shopping basket', 'shopping cart', 'shovel', 'shower cap', 'shower curtain', 'ski', 'ski mask', 'sleeping bag', 'slide rule, slipstick', 'sliding door', 'slot, one-armed bandit', 'snorkel', 'snowmobile', 'snowplow, snowplough', 'soap dispenser', 'soccer ball', 'sock', 'solar dish, solar collector, solar furnace', 'sombrero', 'soup bowl', 'space bar', 'space heater', 'space shuttle', 'spatula', 'speedboat', 's web\",\\n', 'spindle', 'sports car, sport car', 'spotlight, spot', 'stage', 'steam locomotive', 'steel arch bridge', 'steel drum', 'stethoscope', 'stole', 'stone wall', 'stopwatch, stop watch', 'stove', 'strainer', 'streetcar, tram, tramcar, trolley, trolley car', 'stretcher', 'studio couch, day bed', 'stupa, tope', 'submarine, pigboat, sub, U-boat', 'suit, suit of clothes', 'sundial', 'sunglass', 'sunglasses, dark glasses, shades', 'sunscreen, sunblock, sun blocker', 'suspension bridge', 'swab, swob, mop', 'sweatshirt', 'swimming trunks, bathing trunks', 'swing', 'switch, electric switch, electrical switch', 'syringe', 'table lamp', 'tank, army tank, armored combat vehicle, armoured combat vehicle', 'tape player', 'teapot', 'teddy, teddy bear', 'television, television system', 'tennis ball', 'thatch, thatched roof', 'theater curtain, theatre curtain', 'thimble', 'thresher, thrasher, threshing machine', 'throne', 'tile roof', 'toaster', 'tobacco shop, tobacconist shop, tobacconist', 'toilet seat', 'torch', 'totem pole', 'tow truck, tow car, wrecker', 'toyshop', 'tractor', 'trailer truck, tractor trailer, trucking rig, rig, articulated lorry, semi', 'tray', 'trench coat', 'tricycle, trike, velocipede', 'trimaran', 'tripod', 'triumphal arch', 'trolleybus, trolley coach, trackless trolley', 'trombone', 'tub, vat', 'turnstile', 'typewriter keyboard', 'umbrella', 'unicycle, monocycle', 'upright, upright piano', 'vacuum, vacuum cleaner', 'vase', 'vault', 'velvet', 'vending machine', 'vestment', 'viaduct', 'violin, fiddle', 'volleyball', 'waffle iron', 'wall clock', 'wallet, billfold, notecase, pocketbook', 'wardrobe, closet, press', 'warplane, military plane', 'washbasin, handbasin, washbowl, lavabo, wash-hand basin', 'washer, automatic washer, washing machine', 'water bottle', 'water jug', 'water tower', 'whiskey jug', 'whistle', 'wig', 'window screen', 'window shade', 'Windsor tie', 'wine bottle', 'wing', 'wok', 'wooden spoon', 'wool, woolen, woollen', 'worm fence, snake fence, snake-rail fence, Virginia fence', 'wreck', 'yawl', 'yurt', 'web site, website, internet site, site', 'comic book', 'crossword puzzle, crossword', 'street sign', 'traffic light, traffic signal, stoplight', 'book jacket, dust cover, dust jacket, dust wrapper', 'menu', 'plate', 'guacamole', 'consomme', 'hot pot, hotpot', 'trifle', 'ice cream, icecream', 'ice lolly, lolly, lollipop, popsicle', 'French loaf', 'bagel, beigel', 'pretzel', 'cheeseburger', 'hotdog, hot dog, red hot', 'mashed potato', 'head cabbage', 'broccoli', 'cauliflower', 'zucchini, courgette', 'spaghetti squash', 'acorn squash', 'butternut squash', 'cucumber, cuke', 'artichoke, globe artichoke', 'bell pepper', 'cardoon', 'mushroom', 'Granny Smith', 'strawberry', 'orange', 'lemon', 'fig', 'pineapple, ananas', 'banana', 'jackfruit, jak, jack', 'custard apple', 'pomegranate', 'hay', 'carbonara', 'chocolate sauce, chocolate syrup', 'dough', 'meat loaf, meatloaf', 'pizza, pizza pie', 'potpie', 'burrito', 'red wine', 'espresso', 'cup', 'eggnog', 'alp', 'bubble', 'cliff, drop, drop-off', 'coral reef', 'geyser', 'lakeside, lakeshore', 'promontory, headland, head, foreland', 'sandbar, sand bar', 'seashore, coast, seacoast, sea-coast', 'valley, vale', 'volcano', 'ballplayer, baseball player', 'groom, bridegroom', 'scuba diver', 'rapeseed', 'daisy', 's slipper, yellow lady-slipper, Cypripedium calceolus, Cypripedium parviflorum\",\\n', 'corn', 'acorn', 'hip, rose hip, rosehip', 'buckeye, horse chestnut, conker', 'coral fungus', 'agaric', 'gyromitra', 'stinkhorn, carrion fungus', 'earthstar', 'hen-of-the-woods, hen of the woods, Polyporus frondosus, Grifola frondosa', 'bolete', 'ear, spike, capitulum', 'toilet tissue, toilet paper, bathroom tissue']\n"
     ]
    }
   ],
   "source": [
    "\"\"\"\n",
    "install ImageNet label and store into label\n",
    "\"\"\"\n",
    "import os\n",
    "os.system(\"wget -O ImageNet_label https://gist.githubusercontent.com/yrevar/942d3a0ac09ec9e5eb3a/raw/238f720ff059c1f82f368259d1ca4ffa5dd8f9f5/imagenet1000_clsidx_to_labels.txt\")\n",
    "\n",
    "label = []\n",
    "with open(\"ImageNet_label\") as f:\n",
    "    label = [i.split(\"'\")[1] for i in f.readlines()]\n",
    "\n",
    "print(label)"
   ]
  },
  {
   "cell_type": "code",
   "execution_count": 117,
   "metadata": {},
   "outputs": [],
   "source": [
    "import time\n",
    "class timer():\n",
    "    def __init__(self):\n",
    "        self.startTime=0\n",
    "        self.endTime=0\n",
    "        self.totaltime=0\n",
    "    def start(self):\n",
    "        self.startTime=time.time()\n",
    "    def end(self):\n",
    "        self.totaltime =time.time()-self.startTime"
   ]
  },
  {
   "cell_type": "code",
   "execution_count": 118,
   "metadata": {},
   "outputs": [],
   "source": [
    "from torchvision import transforms\n",
    "transform = transforms.Compose([\n",
    "    transforms.Resize(224),\n",
    "    transforms.ToTensor(),\n",
    "    transforms.Normalize(\n",
    "        mean=[0.485, 0.456, 0.406], \n",
    "\t\tstd=[0.229, 0.224, 0.225])\n",
    "])"
   ]
  },
  {
   "cell_type": "code",
   "execution_count": 119,
   "metadata": {},
   "outputs": [],
   "source": [
    "\"\"\"\n",
    "save pytorch resnet model\n",
    "\"\"\"\n",
    "import torch\n",
    "import torchvision\n",
    "\n",
    "resnet50 = torchvision.models.resnet50(pretrained=True, progress=False).eval()\n",
    "#print(resnet50)\n",
    "torch.save(resnet50,\"resnet.pt\")"
   ]
  },
  {
   "cell_type": "code",
   "execution_count": 120,
   "metadata": {},
   "outputs": [
    {
     "name": "stdout",
     "output_type": "stream",
     "text": [
      "load pytorch model: 0.034955 s\n"
     ]
    }
   ],
   "source": [
    "\"\"\"\n",
    "load pytorch model\n",
    "\"\"\"\n",
    "load_torch_timer = timer()\n",
    "load_torch_timer.start()\n",
    "resnet_pytorch = torch.load(\"resnet.pt\")\n",
    "load_torch_timer.end()\n",
    "print(\"load pytorch model: %f s\" % (load_torch_timer.totaltime))\n",
    "\n"
   ]
  },
  {
   "cell_type": "code",
   "execution_count": 121,
   "metadata": {},
   "outputs": [
    {
     "name": "stdout",
     "output_type": "stream",
     "text": [
      "torch.Size([1, 3, 224, 224])\n"
     ]
    }
   ],
   "source": [
    "from matplotlib import pyplot as plt\n",
    "from PIL import Image\n",
    "import numpy as np\n",
    "img = Image.open('cat.png')\n",
    "img = transform(img)\n",
    "img = torch.unsqueeze(img, 0)\n",
    "print(img.size())"
   ]
  },
  {
   "cell_type": "code",
   "execution_count": 122,
   "metadata": {},
   "outputs": [
    {
     "name": "stdout",
     "output_type": "stream",
     "text": [
      "torch.Size([1, 1000])\n",
      "torch.Size([1000])\n",
      "pytorch time: 0.044099s\n"
     ]
    }
   ],
   "source": [
    "\"\"\" pytorch inference \"\"\"\n",
    "infer_torch_timer = timer()\n",
    "infer_torch_timer.start()\n",
    "output = resnet_pytorch(img)\n",
    "infer_torch_timer.end()\n",
    "\n",
    "print(output.size())\n",
    "output = output.squeeze()\n",
    "print(output.size())\n",
    "print(\"pytorch time: %fs\"%(infer_torch_timer.totaltime))\n",
    "\n",
    "sum = 0\n",
    "for i in output:\n",
    "    sum += i\n",
    "# print(output)"
   ]
  },
  {
   "cell_type": "code",
   "execution_count": 123,
   "metadata": {},
   "outputs": [
    {
     "name": "stdout",
     "output_type": "stream",
     "text": [
      "tabby, tabby cat          | 43.14913%\n",
      "tiger cat                 | 29.68253%\n",
      "Egyptian cat              | 25.96065%\n",
      "tiger, Panthera tigris    | 00.34236%\n",
      "lynx, catamount           | 00.30307%\n"
     ]
    }
   ],
   "source": [
    "\"\"\"\n",
    "pytorch result\n",
    "\"\"\"\n",
    "\n",
    "import torch.nn.functional as F\n",
    "_, index = torch.sort(output, descending=True)\n",
    "percentage = F.softmax(output)\n",
    "\n",
    "result_torch = [(label[i],percentage[i].item()*100) for i in index[:5]]\n",
    "for j in result_torch:\n",
    "    print(\"%-25s | %08.5f\"%(j[0],j[1])+\"%\")"
   ]
  },
  {
   "cell_type": "code",
   "execution_count": 124,
   "metadata": {},
   "outputs": [
    {
     "name": "stdout",
     "output_type": "stream",
     "text": [
      "torch.Size([1, 3, 224, 224])\n"
     ]
    }
   ],
   "source": [
    "\"\"\"\n",
    "image process and transform\n",
    "\"\"\"\n",
    "from matplotlib import pyplot as plt\n",
    "from PIL import Image\n",
    "import numpy as np\n",
    "img = Image.open('cat.png')\n",
    "img = transform(img)\n",
    "img = torch.unsqueeze(img, 0)\n",
    "print(img.size())"
   ]
  },
  {
   "cell_type": "code",
   "execution_count": 125,
   "metadata": {},
   "outputs": [],
   "source": [
    "import torch.onnx\n",
    "BATCH_SIZE=1\n",
    "dummy_input=torch.randn(BATCH_SIZE, 3, 224, 224)\n",
    "torch.onnx.export(resnet50, dummy_input, \"resnet.onnx\", verbose=False,input_names = ['input'], output_names = ['output'])"
   ]
  },
  {
   "cell_type": "code",
   "execution_count": 126,
   "metadata": {},
   "outputs": [
    {
     "name": "stdout",
     "output_type": "stream",
     "text": [
      "load pytorch model: 0.172642 s\n"
     ]
    }
   ],
   "source": [
    "\"\"\"\n",
    "load onnx model\n",
    "\"\"\"\n",
    "\n",
    "import onnxruntime as rt\n",
    "load_onnx_timer = timer()\n",
    "load_onnx_timer.start()\n",
    "resnet_onnx = rt.InferenceSession(\"resnet.onnx\")\n",
    "load_onnx_timer.end()\n",
    "print(\"load pytorch model: %f s\" % (load_onnx_timer.totaltime))"
   ]
  },
  {
   "cell_type": "code",
   "execution_count": 127,
   "metadata": {},
   "outputs": [],
   "source": [
    "\"\"\" \n",
    "onnx inference \n",
    "\"\"\"\n",
    "\n",
    "def to_np(tensor):\n",
    "    return tensor.detach().cpu().numpy() if tensor.requires_grad else tensor.cpu().numpy()\n",
    "\n",
    "infer_onnx_timer = timer()\n",
    "ort_input = {resnet_onnx.get_inputs()[0].name:to_np(img)}\n",
    "infer_onnx_timer.start()\n",
    "output = resnet_onnx.run(None,ort_input)[0][0]\n",
    "infer_onnx_timer.end()\n",
    "\n",
    "output = torch.tensor(output)"
   ]
  },
  {
   "cell_type": "code",
   "execution_count": 128,
   "metadata": {},
   "outputs": [
    {
     "name": "stdout",
     "output_type": "stream",
     "text": [
      "tensor([281, 282, 285, 292, 287])\n",
      "tabby, tabby cat          | 43.14905%\n",
      "tiger cat                 | 29.68259%\n",
      "Egyptian cat              | 25.96067%\n",
      "tiger, Panthera tigris    | 00.34236%\n",
      "lynx, catamount           | 00.30307%\n"
     ]
    }
   ],
   "source": [
    "_, index = torch.sort(output, descending=True)\n",
    "percentage = F.softmax(output)\n",
    "\n",
    "print(index[:5])\n",
    "result_onnx = [(label[i],percentage[i].item()*100) for i in index[:5]]\n",
    "for j in result_onnx:\n",
    "    print(\"%-25s | %08.5f\"%(j[0],j[1])+\"%\")"
   ]
  },
  {
   "cell_type": "code",
   "execution_count": 129,
   "metadata": {},
   "outputs": [
    {
     "name": "stdout",
     "output_type": "stream",
     "text": [
      "load time\n",
      "Pytorch : 0.034955s\n",
      "onnx    : 0.172642s\n",
      "--------------------------------------------------\n",
      "infer time\n",
      "Pytorch : 0.044099s\n",
      "onnx    : 0.098687s\n"
     ]
    }
   ],
   "source": [
    "print(\"load time\")\n",
    "print(\"Pytorch : %fs\" % (load_torch_timer.totaltime))\n",
    "print(\"onnx    : %fs\" % (load_onnx_timer.totaltime))\n",
    "\n",
    "print(\"-\"*50)\n",
    "print(\"infer time\")\n",
    "print(\"Pytorch : %fs\" % (infer_torch_timer.totaltime))\n",
    "print(\"onnx    : %fs\" % (infer_onnx_timer.totaltime))"
   ]
  },
  {
   "cell_type": "code",
   "execution_count": 130,
   "metadata": {},
   "outputs": [
    {
     "name": "stdout",
     "output_type": "stream",
     "text": [
      "7.2.3.4\n"
     ]
    }
   ],
   "source": [
    "import tensorrt as trt\n",
    "\n",
    "print(trt.__version__)\n",
    "\n",
    "TRT_LOGGER = trt.Logger(trt.Logger.WARNING)\n",
    "trt_runtime = trt.Runtime(TRT_LOGGER)\n",
    "\n",
    "def build_engine(onnx_path, shape = [1,224,224,3]):\n",
    "\n",
    "   \"\"\"\n",
    "   create the TensorRT engine\n",
    "   Args:\n",
    "      onnx_path : Path to onnx_file. \n",
    "      shape : Shape of the input of the ONNX file. \n",
    "  \"\"\"\n",
    "   with trt.Builder(TRT_LOGGER) as builder, builder.create_network(1) as network, trt.OnnxParser(network, TRT_LOGGER) as parser:\n",
    "       builder.max_workspace_size = (256 << 20)\n",
    "       \"\"\"256 MB\"\"\"\n",
    "       with open(onnx_path, 'rb') as model:\n",
    "           parser.parse(model.read())\n",
    "       network.get_input(0).shape = shape\n",
    "       engine = builder.build_cuda_engine(network)\n",
    "       return engine\n",
    "\n",
    "def save_engine(engine, file_name):\n",
    "   buf = engine.serialize()\n",
    "   with open(file_name, 'wb') as f:\n",
    "       f.write(buf)\n",
    "\n",
    "def load_engine(trt_runtime, plan_path):\n",
    "   with open(plan_path, 'rb') as f:\n",
    "       engine_data = f.read()\n",
    "   engine = trt_runtime.deserialize_cuda_engine(engine_data)\n",
    "   return engine"
   ]
  },
  {
   "cell_type": "code",
   "execution_count": 131,
   "metadata": {},
   "outputs": [],
   "source": [
    "from onnx import ModelProto\n",
    "\n",
    "BATCH_SIZE=1\n",
    "dummy_input=torch.randn(BATCH_SIZE, 3, 224, 224)\n",
    "resnet50 = torchvision.models.resnet50(pretrained=True, progress=False).eval()\n",
    "torch.onnx.export(resnet50, dummy_input, \"resnet.onnx\", verbose=False,input_names = ['input'], output_names = ['output'])\n",
    "\n",
    "onnx_path = \"resnet.onnx\"\n",
    "trt_path  = \"resnet.plan\"\n",
    "\n",
    "model = ModelProto()\n",
    "with open(onnx_path, \"rb\") as f:\n",
    "  model.ParseFromString(f.read())\n",
    "\n",
    "batch_size = 1\n",
    "d0 = model.graph.input[0].type.tensor_type.shape.dim[1].dim_value\n",
    "d1 = model.graph.input[0].type.tensor_type.shape.dim[2].dim_value\n",
    "d2 = model.graph.input[0].type.tensor_type.shape.dim[3].dim_value\n",
    "shape = [batch_size , d0, d1 ,d2]\n",
    "\n",
    "\"\"\"\n",
    "build engine and start timer to get total build time\n",
    "\"\"\"\n",
    "build_trt_timer = timer()\n",
    "build_trt_timer.start()\n",
    "trt_engine = build_engine(onnx_path,shape)\n",
    "build_trt_timer.end()\n",
    "\n",
    "\n",
    "\"\"\"\n",
    "save engine as trt_path\n",
    "\"\"\"\n",
    "save_engine(trt_engine,trt_path)"
   ]
  },
  {
   "cell_type": "code",
   "execution_count": 132,
   "metadata": {},
   "outputs": [
    {
     "name": "stdout",
     "output_type": "stream",
     "text": [
      "build a tensorRT engine: 8.557570 s\n"
     ]
    }
   ],
   "source": [
    "print(\"build a tensorRT engine: %f s\" %(build_trt_timer.totaltime))"
   ]
  },
  {
   "cell_type": "code",
   "execution_count": 133,
   "metadata": {},
   "outputs": [],
   "source": [
    "import pycuda.driver as cuda\n",
    "import pycuda.autoinit \n",
    "\n",
    "def allocate_buffers(engine, batch_size, data_type):\n",
    "   \"\"\"\n",
    "   This is the function to allocate buffers for input and output in the device\n",
    "   args:\n",
    "      engine      : The path to the TensorRT engine. \n",
    "      batch_size  : The batch size for execution time.\n",
    "      data_type   : The type of the data for input and output, for example trt.float32. \n",
    "   \n",
    "   return:\n",
    "      h_input_1   : Input in the host.\n",
    "      d_input_1   : Input in the device. \n",
    "      h_output_1  : Output in the host. \n",
    "      d_output_1  : Output in the device. \n",
    "      stream      : CUDA stream.\n",
    "   \"\"\"\n",
    "\n",
    "   # Determine dimensions and create page-locked memory buffers (which won't be swapped to disk) to hold host inputs/outputs.\n",
    "   h_input_1 = cuda.pagelocked_empty(batch_size * trt.volume(engine.get_binding_shape(0)), dtype=trt.nptype(data_type))\n",
    "   h_output = cuda.pagelocked_empty(batch_size * trt.volume(engine.get_binding_shape(1)), dtype=trt.nptype(data_type))\n",
    "   # Allocate device memory for inputs and outputs.\n",
    "   d_input_1 = cuda.mem_alloc(h_input_1.nbytes)\n",
    "\n",
    "   d_output = cuda.mem_alloc(h_output.nbytes)\n",
    "   # Create a stream in which to copy inputs/outputs and run inference.\n",
    "   stream = cuda.Stream()\n",
    "   return h_input_1, d_input_1, h_output, d_output, stream \n",
    "\n",
    "def load_images_to_buffer(pics, pagelocked_buffer):\n",
    "   preprocessed = np.asarray(pics).ravel()\n",
    "   np.copyto(pagelocked_buffer, preprocessed) \n",
    "\n",
    "def do_inference(engine, pics_1, h_input_1, d_input_1, h_output, d_output, stream, batch_size):\n",
    "   \"\"\"\n",
    "   This is the function to run the inference\n",
    "   Args:\n",
    "      engine      : Path to the TensorRT engine \n",
    "      pics_1      : Input images to the model.  \n",
    "      h_input_1   : Input in the host         \n",
    "      d_input_1   : Input in the device \n",
    "      h_output_1  : Output in the host \n",
    "      d_output_1  : Output in the device \n",
    "      stream      : CUDA stream\n",
    "      batch_size  : Batch size for execution time\n",
    "   \n",
    "   Output:\n",
    "      The list of output images\n",
    "\n",
    "   \"\"\"\n",
    "\n",
    "   load_images_to_buffer(pics_1, h_input_1)\n",
    "\n",
    "   with engine.create_execution_context() as context:\n",
    "\n",
    "      \"\"\" copy data from host to device \"\"\"\n",
    "      cuda.memcpy_htod_async(d_input_1, h_input_1, stream)\n",
    "\n",
    "      # Run inference.\n",
    "      context.profiler = trt.Profiler()\n",
    "      context.execute(batch_size=1, bindings=[int(d_input_1), int(d_output)])\n",
    "\n",
    "      # Transfer predictions back from the GPU.\n",
    "      cuda.memcpy_dtoh_async(h_output, d_output, stream)\n",
    "\n",
    "      # Synchronize the stream\n",
    "      stream.synchronize()\n",
    "      \n",
    "      # Return the host output.\n",
    "      \n",
    "      return h_output"
   ]
  },
  {
   "cell_type": "code",
   "execution_count": 134,
   "metadata": {},
   "outputs": [],
   "source": [
    "\"\"\"\n",
    "load tensorRT engine\n",
    "\"\"\"\n",
    "\n",
    "load_trt_timer = timer()\n",
    "load_trt_timer.start()\n",
    "resnet_trt = load_engine(trt_runtime,trt_path)\n",
    "load_trt_timer.end()"
   ]
  },
  {
   "cell_type": "code",
   "execution_count": 135,
   "metadata": {},
   "outputs": [
    {
     "name": "stdout",
     "output_type": "stream",
     "text": [
      "load a tensorRT engine: 0.482223 s\n"
     ]
    }
   ],
   "source": [
    "print(\"load a tensorRT engine: %f s\" %(load_trt_timer.totaltime))"
   ]
  },
  {
   "cell_type": "code",
   "execution_count": 136,
   "metadata": {},
   "outputs": [],
   "source": [
    "\"\"\"\n",
    "inference step\n",
    "   workflow:\n",
    "      1. allocate buffer for input and output in GPU\n",
    "      2. copy data from host to device\n",
    "      3. run inference in GPU\n",
    "      4. copy result from GPU to the host\n",
    "      5. reshape (optional)\n",
    "\"\"\"\n",
    "\n",
    "\"\"\" allocate buffer \"\"\"\n",
    "\n",
    "host_input, device_input, host_output, device_output, stream = allocate_buffers(\n",
    "    engine = resnet_trt,\n",
    "    batch_size = 1,\n",
    "    data_type = trt.float32)"
   ]
  },
  {
   "cell_type": "code",
   "execution_count": 137,
   "metadata": {},
   "outputs": [
    {
     "name": "stdout",
     "output_type": "stream",
     "text": [
      "torch.Size([1, 3, 224, 224])\n"
     ]
    }
   ],
   "source": [
    "img = Image.open('cat.png')\n",
    "img = transform(img)\n",
    "img = torch.unsqueeze(img, 0)\n",
    "print(img.size())"
   ]
  },
  {
   "cell_type": "code",
   "execution_count": 138,
   "metadata": {},
   "outputs": [
    {
     "name": "stdout",
     "output_type": "stream",
     "text": [
      "Conv_0 + Relu_1: 0.080672ms\n",
      "MaxPool_2: 0.017856ms\n",
      "Conv_3 + Relu_4: 0.019488ms\n",
      "Conv_5 + Relu_6: 0.050592ms\n",
      "Conv_7: 0.04064ms\n",
      "Conv_8 + Add_9 + Relu_10: 0.046656ms\n",
      "Conv_11 + Relu_12: 0.043808ms\n",
      "Conv_13 + Relu_14: 0.050176ms\n",
      "Conv_15 + Add_16 + Relu_17: 0.046112ms\n",
      "Conv_18 + Relu_19: 0.04416ms\n",
      "Conv_20 + Relu_21: 0.05008ms\n",
      "Conv_22 + Add_23 + Relu_24: 0.046144ms\n",
      "Conv_22 + Add_23 + Relu_24 output reformatter 0: 0.03056ms\n",
      "Conv_25 + Relu_26: 0.064032ms\n",
      "Conv_27 + Relu_28: 0.0736ms\n",
      "Conv_29: 0.036736ms\n",
      "Conv_30 + Add_31 + Relu_32: 0.06864ms\n",
      "Conv_33 + Relu_34: 0.038592ms\n",
      "Conv_35 + Relu_36: 0.073408ms\n",
      "Conv_37 + Add_38 + Relu_39: 0.042816ms\n",
      "Conv_40 + Relu_41: 0.038336ms\n",
      "Conv_42 + Relu_43: 0.07392ms\n",
      "Conv_44 + Add_45 + Relu_46: 0.042944ms\n",
      "Conv_47 + Relu_48: 0.038592ms\n",
      "Conv_49 + Relu_50: 0.073504ms\n",
      "Conv_51 + Add_52 + Relu_53: 0.04336ms\n",
      "Conv_54 + Relu_55: 0.06176ms\n",
      "Conv_56 + Relu_57: 0.133248ms\n",
      "Conv_58: 0.06096ms\n",
      "Conv_59 + Add_60 + Relu_61: 0.107104ms\n",
      "Conv_59 + Add_60 + Relu_61 output reformatter 0: 0.01152ms\n",
      "Conv_62 + Relu_63: 0.05744ms\n",
      "Conv_64 + Relu_65: 0.076384ms\n",
      "Conv_66 + Add_67 + Relu_68: 0.06144ms\n",
      "Conv_69 + Relu_70: 0.056928ms\n",
      "Conv_71 + Relu_72: 0.076608ms\n",
      "Conv_73 + Add_74 + Relu_75: 0.061824ms\n",
      "Conv_76 + Relu_77: 0.057824ms\n",
      "Conv_78 + Relu_79: 0.076032ms\n",
      "Conv_80 + Add_81 + Relu_82: 0.060896ms\n",
      "Conv_83 + Relu_84: 0.056736ms\n",
      "Conv_85 + Relu_86: 0.076ms\n",
      "Conv_87 + Add_88 + Relu_89: 0.061536ms\n",
      "Conv_90 + Relu_91: 0.057856ms\n",
      "Conv_92 + Relu_93: 0.076384ms\n",
      "Conv_94 + Add_95 + Relu_96: 0.06176ms\n",
      "Conv_97 + Relu_98: 0.092704ms\n",
      "Conv_99 + Relu_100 input reformatter 0: 0.008736ms\n",
      "Conv_99 + Relu_100: 0.255904ms\n",
      "Conv_101 input reformatter 0: 0.007072ms\n",
      "Conv_101: 0.057824ms\n",
      "Conv_102 + Add_103 + Relu_104: 0.208544ms\n",
      "Conv_105 + Relu_106: 0.093792ms\n",
      "Conv_107 + Relu_108: 0.103648ms\n",
      "Conv_109 + Add_110 + Relu_111: 0.104ms\n",
      "Conv_112 + Relu_113: 0.09456ms\n",
      "Conv_114 + Relu_115: 0.104512ms\n",
      "Conv_116 + Add_117 + Relu_118: 0.102752ms\n",
      "GlobalAveragePool_119: 0.009024ms\n",
      "Gemm_121: 0.03632ms\n"
     ]
    }
   ],
   "source": [
    "\"\"\" inference \"\"\"\n",
    "infer_trt_timer = timer()\n",
    "infer_trt_timer.start()\n",
    "output = do_inference(\n",
    "    engine    = resnet_trt,\n",
    "    pics_1    = img,\n",
    "    h_input_1 = host_input,\n",
    "    d_input_1 = device_input,\n",
    "    h_output  = host_output,\n",
    "    d_output  = device_output,\n",
    "    stream    = stream,\n",
    "    batch_size= 1,\n",
    ")\n",
    "infer_trt_timer.end()"
   ]
  },
  {
   "cell_type": "code",
   "execution_count": 139,
   "metadata": {},
   "outputs": [
    {
     "name": "stdout",
     "output_type": "stream",
     "text": [
      "<class 'numpy.ndarray'>\n",
      "<class 'torch.Tensor'>\n"
     ]
    }
   ],
   "source": [
    "print(type(output))\n",
    "\"\"\" transform ndarray to Tensor \"\"\"\n",
    "output = torch.tensor(output)\n",
    "print(type(output))"
   ]
  },
  {
   "cell_type": "code",
   "execution_count": 140,
   "metadata": {},
   "outputs": [
    {
     "name": "stdout",
     "output_type": "stream",
     "text": [
      "tensor([281, 282, 285, 292, 287])\n",
      "tabby, tabby cat          | 43.14908%\n",
      "tiger cat                 | 29.68258%\n",
      "Egyptian cat              | 25.96064%\n",
      "tiger, Panthera tigris    | 00.34236%\n",
      "lynx, catamount           | 00.30307%\n"
     ]
    }
   ],
   "source": [
    "_, index = torch.sort(output, descending=True)\n",
    "percentage = F.softmax(output)\n",
    "\n",
    "print(index[:5])\n",
    "result_trt = [(label[i],percentage[i].item()*100) for i in index[:5]]\n",
    "for j in result_trt:\n",
    "    print(\"%-25s | %08.5f\"%(j[0],j[1])+\"%\")"
   ]
  },
  {
   "cell_type": "code",
   "execution_count": 141,
   "metadata": {},
   "outputs": [
    {
     "name": "stdout",
     "output_type": "stream",
     "text": [
      "load time\n",
      "Pytorch      : 0.034955s\n",
      "onnx runtime : 0.172642s\n",
      "tensorRT     : 0.482223s\n",
      "--------------------------------------------------\n",
      "infer time\n",
      "Pytorch      : 0.044099s\n",
      "onnx runtime : 0.098687s\n",
      "tensorRT     : 0.008694s\n",
      "--------------------------------------------------\n",
      "result\n",
      "  Pytorch:\n",
      "     tabby, tabby cat          | 43.14913%\n",
      "     tiger cat                 | 29.68253%\n",
      "     Egyptian cat              | 25.96065%\n",
      "     tiger, Panthera tigris    | 00.34236%\n",
      "     lynx, catamount           | 00.30307%\n",
      "     ---------------------------------------------\n",
      "  onnx:\n",
      "     tabby, tabby cat          | 43.14905%\n",
      "     tiger cat                 | 29.68259%\n",
      "     Egyptian cat              | 25.96067%\n",
      "     tiger, Panthera tigris    | 00.34236%\n",
      "     lynx, catamount           | 00.30307%\n",
      "     ---------------------------------------------\n",
      "  tensorRT:\n",
      "     tabby, tabby cat          | 43.14908%\n",
      "     tiger cat                 | 29.68258%\n",
      "     Egyptian cat              | 25.96064%\n",
      "     tiger, Panthera tigris    | 00.34236%\n",
      "     lynx, catamount           | 00.30307%\n"
     ]
    }
   ],
   "source": [
    "print(\"load time\")\n",
    "print(\"Pytorch      : %fs\" % (load_torch_timer.totaltime))\n",
    "print(\"onnx runtime : %fs\" % (load_onnx_timer.totaltime))\n",
    "print(\"tensorRT     : %fs\" % (load_trt_timer.totaltime))\n",
    "\n",
    "print(\"-\"*50)\n",
    "print(\"infer time\")\n",
    "print(\"Pytorch      : %fs\" % (infer_torch_timer.totaltime))\n",
    "print(\"onnx runtime : %fs\" % (infer_onnx_timer.totaltime))\n",
    "print(\"tensorRT     : %fs\" % (infer_trt_timer.totaltime))\n",
    "\n",
    "print(\"-\"*50)\n",
    "print(\"result\")\n",
    "print(\"  Pytorch:\")\n",
    "for j in result_torch:\n",
    "    print(\"     %-25s | %08.5f\"%(j[0],j[1])+\"%\")\n",
    "\n",
    "print(\" \"*5+\"-\"*45)\n",
    "print(\"  onnx:\")\n",
    "for j in result_onnx:\n",
    "    print(\"     %-25s | %08.5f\"%(j[0],j[1])+\"%\")\n",
    "\n",
    "print(\" \"*5+\"-\"*45)\n",
    "print(\"  tensorRT:\")\n",
    "for j in result_trt:\n",
    "    print(\"     %-25s | %08.5f\"%(j[0],j[1])+\"%\")"
   ]
  },
  {
   "cell_type": "markdown",
   "metadata": {},
   "source": []
  },
  {
   "cell_type": "markdown",
   "metadata": {},
   "source": [
    "\n",
    "\n",
    "### reference and issues:\n",
    "\n",
    "* issue: **AttributeError: 'tensorrt.tensorrt.Builder' object has no attribute 'max_workspace_size'** \n",
    "    * error when nvidia-tensorrt is 8.x.x.x version\n",
    "    * sol: remove nvidia-tensorrt 8.x.x.x and install 7.2.\n",
    "    * ref: [(github issue link)](https://github.com/NVIDIA-AI-IOT/torch2trt/issues/557)\n",
    "* issue: **AttributeError: module 'google.protobuf.descriptor' has no attribute '_internal_create_key**\n",
    "    * error when ```protobuf``` version is  not equal to ```protoc```\n",
    "        * show ```protobuf``` version: ```pip3 show protobuf```\n",
    "        * show ```protoc``` version: ```protoc --version```\n",
    "    * sol: \n",
    "        1. update protobuf version:  ```pip3 install --upgrade protobuf``` \n",
    "        2. install ```protoc``` if not exist:\n",
    "            1. ```wget https://github.com/protocolbuffers/protobuf/releases/download/v3.17.3/protoc-3.17.3-linux-x86_64.zip```\n",
    "            2. ```unzip protoc-3.17.3-linux-x86_64.zip```\n",
    "            3. ```vim ~/.bashprofile``` and paste ```PATH=$PATH:/home/YOUR_HOST_NAME/bin```\n",
    "            4. ```source ~/.bashprofile``` and ```echo $PATH``` to check whether ```/home/YOUR_HOST_NAME/bin``` exist or not.\n",
    "    * ref: [stackoverflow linke](https://stackoverflow.com/questions/61922334/how-to-solve-attributeerror-module-google-protobuf-descriptor-has-no-attribu)\n",
    "* [Imagenet label](https://gist.githubusercontent.com/yrevar/942d3a0ac09ec9e5eb3a/raw/238f720ff059c1f82f368259d1ca4ffa5dd8f9f5/imagenet1000_clsidx_to_labels.txt)\n",
    "* [NVIDIA onnx to tensorRT](https://developer.nvidia.com/blog/speeding-up-deep-learning-inference-using-tensorflow-onnx-and-tensorrt/)\n",
    "    * [zh-cn (注意中文文檔中 ```save_engine``` 中的 code 有錯)](https://developer.nvidia.com/zh-cn/blog/speeding-up-deep-learning-inference-using-tensorflow-onnx-and-tensorrt/)\n",
    "* [NVIDIA Deep Learning TensorRT Documentation](https://docs.nvidia.com/deeplearning/tensorrt/developer-guide/index.html#python_topics)\n",
    "* [Jetson Nano 运用TensorRT加速引擎 上篇](https://www.rs-online.com/designspark/nvidia-cudagpujetson-nano-tensorrt-cn)\n",
    "* [Jetson Nano 运用TensorRT加速引擎 下篇](https://www.rs-online.com/designspark/nvidia-cudagpujetson-nano-tensorrt-3-cn)"
   ]
  }
 ],
 "metadata": {
  "kernelspec": {
   "display_name": "Python 3.8.10 64-bit",
   "metadata": {
    "interpreter": {
     "hash": "df0893f56f349688326838aaeea0de204df53a132722cbd565e54b24a8fec5f6"
    }
   },
   "name": "python3"
  },
  "language_info": {
   "codemirror_mode": {
    "name": "ipython",
    "version": 3
   },
   "file_extension": ".py",
   "mimetype": "text/x-python",
   "name": "python",
   "nbconvert_exporter": "python",
   "pygments_lexer": "ipython3",
   "version": "3.8.10"
  },
  "orig_nbformat": 2
 },
 "nbformat": 4,
 "nbformat_minor": 2
}